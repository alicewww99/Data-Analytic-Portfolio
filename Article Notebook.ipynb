{
 "cells": [
  {
   "cell_type": "code",
   "execution_count": 4,
   "id": "3f05f777",
   "metadata": {},
   "outputs": [],
   "source": [
    "import pandas as pd\n",
    "import numpy as np\n",
    "import matplotlib.pyplot as plt\n",
    "import plotly.graph_objects as go\n",
    "import seaborn as sns"
   ]
  },
  {
   "cell_type": "code",
   "execution_count": 5,
   "id": "612350d0",
   "metadata": {},
   "outputs": [
    {
     "data": {
      "text/html": [
       "<div>\n",
       "<style scoped>\n",
       "    .dataframe tbody tr th:only-of-type {\n",
       "        vertical-align: middle;\n",
       "    }\n",
       "\n",
       "    .dataframe tbody tr th {\n",
       "        vertical-align: top;\n",
       "    }\n",
       "\n",
       "    .dataframe thead th {\n",
       "        text-align: right;\n",
       "    }\n",
       "</style>\n",
       "<table border=\"1\" class=\"dataframe\">\n",
       "  <thead>\n",
       "    <tr style=\"text-align: right;\">\n",
       "      <th></th>\n",
       "      <th>Title</th>\n",
       "      <th>Genre</th>\n",
       "      <th>Tags</th>\n",
       "      <th>Languages</th>\n",
       "      <th>Series or Movie</th>\n",
       "      <th>Hidden Gem Score</th>\n",
       "      <th>Country Availability</th>\n",
       "      <th>Runtime</th>\n",
       "      <th>Director</th>\n",
       "      <th>Writer</th>\n",
       "      <th>...</th>\n",
       "      <th>Netflix Release Date</th>\n",
       "      <th>Production House</th>\n",
       "      <th>Netflix Link</th>\n",
       "      <th>IMDb Link</th>\n",
       "      <th>Summary</th>\n",
       "      <th>IMDb Votes</th>\n",
       "      <th>Image</th>\n",
       "      <th>Poster</th>\n",
       "      <th>TMDb Trailer</th>\n",
       "      <th>Trailer Site</th>\n",
       "    </tr>\n",
       "  </thead>\n",
       "  <tbody>\n",
       "    <tr>\n",
       "      <th>0</th>\n",
       "      <td>Lets Fight Ghost</td>\n",
       "      <td>Crime, Drama, Fantasy, Horror, Romance</td>\n",
       "      <td>Comedy Programmes,Romantic TV Comedies,Horror ...</td>\n",
       "      <td>Swedish, Spanish</td>\n",
       "      <td>Series</td>\n",
       "      <td>4.3</td>\n",
       "      <td>Thailand</td>\n",
       "      <td>&lt; 30 minutes</td>\n",
       "      <td>Tomas Alfredson</td>\n",
       "      <td>John Ajvide Lindqvist</td>\n",
       "      <td>...</td>\n",
       "      <td>2021-03-04</td>\n",
       "      <td>Canal+, Sandrew Metronome</td>\n",
       "      <td>https://www.netflix.com/watch/81415947</td>\n",
       "      <td>https://www.imdb.com/title/tt1139797</td>\n",
       "      <td>A med student with a supernatural gift tries t...</td>\n",
       "      <td>205926.0</td>\n",
       "      <td>https://occ-0-4708-64.1.nflxso.net/dnm/api/v6/...</td>\n",
       "      <td>https://m.media-amazon.com/images/M/MV5BOWM4NT...</td>\n",
       "      <td>NaN</td>\n",
       "      <td>NaN</td>\n",
       "    </tr>\n",
       "    <tr>\n",
       "      <th>1</th>\n",
       "      <td>HOW TO BUILD A GIRL</td>\n",
       "      <td>Comedy</td>\n",
       "      <td>Dramas,Comedies,Films Based on Books,British</td>\n",
       "      <td>English</td>\n",
       "      <td>Movie</td>\n",
       "      <td>7.0</td>\n",
       "      <td>Canada</td>\n",
       "      <td>1-2 hour</td>\n",
       "      <td>Coky Giedroyc</td>\n",
       "      <td>Caitlin Moran</td>\n",
       "      <td>...</td>\n",
       "      <td>2021-03-04</td>\n",
       "      <td>Film 4, Monumental Pictures, Lionsgate</td>\n",
       "      <td>https://www.netflix.com/watch/81041267</td>\n",
       "      <td>https://www.imdb.com/title/tt4193072</td>\n",
       "      <td>When nerdy Johanna moves to London, things get...</td>\n",
       "      <td>2838.0</td>\n",
       "      <td>https://occ-0-1081-999.1.nflxso.net/dnm/api/v6...</td>\n",
       "      <td>https://m.media-amazon.com/images/M/MV5BZGUyN2...</td>\n",
       "      <td>https://www.youtube.com/watch?v=eIbcxPy4okQ</td>\n",
       "      <td>YouTube</td>\n",
       "    </tr>\n",
       "    <tr>\n",
       "      <th>2</th>\n",
       "      <td>Centigrade</td>\n",
       "      <td>Drama, Thriller</td>\n",
       "      <td>Thrillers</td>\n",
       "      <td>English</td>\n",
       "      <td>Movie</td>\n",
       "      <td>6.4</td>\n",
       "      <td>Canada</td>\n",
       "      <td>1-2 hour</td>\n",
       "      <td>Brendan Walsh</td>\n",
       "      <td>Brendan Walsh, Daley Nixon</td>\n",
       "      <td>...</td>\n",
       "      <td>2021-03-04</td>\n",
       "      <td>NaN</td>\n",
       "      <td>https://www.netflix.com/watch/81305978</td>\n",
       "      <td>https://www.imdb.com/title/tt8945942</td>\n",
       "      <td>Trapped in a frozen car during a blizzard, a p...</td>\n",
       "      <td>1720.0</td>\n",
       "      <td>https://occ-0-1081-999.1.nflxso.net/dnm/api/v6...</td>\n",
       "      <td>https://m.media-amazon.com/images/M/MV5BODM2MD...</td>\n",
       "      <td>https://www.youtube.com/watch?v=0RvV7TNUlkQ</td>\n",
       "      <td>YouTube</td>\n",
       "    </tr>\n",
       "    <tr>\n",
       "      <th>3</th>\n",
       "      <td>ANNE+</td>\n",
       "      <td>Drama</td>\n",
       "      <td>TV Dramas,Romantic TV Dramas,Dutch TV Shows</td>\n",
       "      <td>Turkish</td>\n",
       "      <td>Series</td>\n",
       "      <td>7.7</td>\n",
       "      <td>Belgium,Netherlands</td>\n",
       "      <td>&lt; 30 minutes</td>\n",
       "      <td>NaN</td>\n",
       "      <td>NaN</td>\n",
       "      <td>...</td>\n",
       "      <td>2021-03-04</td>\n",
       "      <td>NaN</td>\n",
       "      <td>https://www.netflix.com/watch/81336456</td>\n",
       "      <td>https://www.imdb.com/title/tt6132758</td>\n",
       "      <td>Upon moving into a new place, a 20-something r...</td>\n",
       "      <td>1147.0</td>\n",
       "      <td>https://occ-0-1489-1490.1.nflxso.net/dnm/api/v...</td>\n",
       "      <td>https://m.media-amazon.com/images/M/MV5BNWRkMz...</td>\n",
       "      <td>NaN</td>\n",
       "      <td>NaN</td>\n",
       "    </tr>\n",
       "    <tr>\n",
       "      <th>4</th>\n",
       "      <td>Moxie</td>\n",
       "      <td>Animation, Short, Drama</td>\n",
       "      <td>Social Issue Dramas,Teen Movies,Dramas,Comedie...</td>\n",
       "      <td>English</td>\n",
       "      <td>Movie</td>\n",
       "      <td>8.1</td>\n",
       "      <td>Lithuania,Poland,France,Iceland,Italy,Spain,Gr...</td>\n",
       "      <td>1-2 hour</td>\n",
       "      <td>Stephen Irwin</td>\n",
       "      <td>NaN</td>\n",
       "      <td>...</td>\n",
       "      <td>2021-03-04</td>\n",
       "      <td>NaN</td>\n",
       "      <td>https://www.netflix.com/watch/81078393</td>\n",
       "      <td>https://www.imdb.com/title/tt2023611</td>\n",
       "      <td>Inspired by her moms rebellious past and a con...</td>\n",
       "      <td>63.0</td>\n",
       "      <td>https://occ-0-4039-1500.1.nflxso.net/dnm/api/v...</td>\n",
       "      <td>https://m.media-amazon.com/images/M/MV5BODYyNW...</td>\n",
       "      <td>NaN</td>\n",
       "      <td>NaN</td>\n",
       "    </tr>\n",
       "  </tbody>\n",
       "</table>\n",
       "<p>5 rows × 29 columns</p>\n",
       "</div>"
      ],
      "text/plain": [
       "                 Title                                   Genre  \\\n",
       "0     Lets Fight Ghost  Crime, Drama, Fantasy, Horror, Romance   \n",
       "1  HOW TO BUILD A GIRL                                  Comedy   \n",
       "2           Centigrade                         Drama, Thriller   \n",
       "3                ANNE+                                   Drama   \n",
       "4                Moxie                 Animation, Short, Drama   \n",
       "\n",
       "                                                Tags         Languages  \\\n",
       "0  Comedy Programmes,Romantic TV Comedies,Horror ...  Swedish, Spanish   \n",
       "1       Dramas,Comedies,Films Based on Books,British           English   \n",
       "2                                          Thrillers           English   \n",
       "3        TV Dramas,Romantic TV Dramas,Dutch TV Shows           Turkish   \n",
       "4  Social Issue Dramas,Teen Movies,Dramas,Comedie...           English   \n",
       "\n",
       "  Series or Movie  Hidden Gem Score  \\\n",
       "0          Series               4.3   \n",
       "1           Movie               7.0   \n",
       "2           Movie               6.4   \n",
       "3          Series               7.7   \n",
       "4           Movie               8.1   \n",
       "\n",
       "                                Country Availability       Runtime  \\\n",
       "0                                           Thailand  < 30 minutes   \n",
       "1                                             Canada      1-2 hour   \n",
       "2                                             Canada      1-2 hour   \n",
       "3                                Belgium,Netherlands  < 30 minutes   \n",
       "4  Lithuania,Poland,France,Iceland,Italy,Spain,Gr...      1-2 hour   \n",
       "\n",
       "          Director                      Writer  ... Netflix Release Date  \\\n",
       "0  Tomas Alfredson       John Ajvide Lindqvist  ...           2021-03-04   \n",
       "1    Coky Giedroyc               Caitlin Moran  ...           2021-03-04   \n",
       "2    Brendan Walsh  Brendan Walsh, Daley Nixon  ...           2021-03-04   \n",
       "3              NaN                         NaN  ...           2021-03-04   \n",
       "4    Stephen Irwin                         NaN  ...           2021-03-04   \n",
       "\n",
       "                         Production House  \\\n",
       "0               Canal+, Sandrew Metronome   \n",
       "1  Film 4, Monumental Pictures, Lionsgate   \n",
       "2                                     NaN   \n",
       "3                                     NaN   \n",
       "4                                     NaN   \n",
       "\n",
       "                             Netflix Link  \\\n",
       "0  https://www.netflix.com/watch/81415947   \n",
       "1  https://www.netflix.com/watch/81041267   \n",
       "2  https://www.netflix.com/watch/81305978   \n",
       "3  https://www.netflix.com/watch/81336456   \n",
       "4  https://www.netflix.com/watch/81078393   \n",
       "\n",
       "                              IMDb Link  \\\n",
       "0  https://www.imdb.com/title/tt1139797   \n",
       "1  https://www.imdb.com/title/tt4193072   \n",
       "2  https://www.imdb.com/title/tt8945942   \n",
       "3  https://www.imdb.com/title/tt6132758   \n",
       "4  https://www.imdb.com/title/tt2023611   \n",
       "\n",
       "                                             Summary  IMDb Votes  \\\n",
       "0  A med student with a supernatural gift tries t...    205926.0   \n",
       "1  When nerdy Johanna moves to London, things get...      2838.0   \n",
       "2  Trapped in a frozen car during a blizzard, a p...      1720.0   \n",
       "3  Upon moving into a new place, a 20-something r...      1147.0   \n",
       "4  Inspired by her moms rebellious past and a con...        63.0   \n",
       "\n",
       "                                               Image  \\\n",
       "0  https://occ-0-4708-64.1.nflxso.net/dnm/api/v6/...   \n",
       "1  https://occ-0-1081-999.1.nflxso.net/dnm/api/v6...   \n",
       "2  https://occ-0-1081-999.1.nflxso.net/dnm/api/v6...   \n",
       "3  https://occ-0-1489-1490.1.nflxso.net/dnm/api/v...   \n",
       "4  https://occ-0-4039-1500.1.nflxso.net/dnm/api/v...   \n",
       "\n",
       "                                              Poster  \\\n",
       "0  https://m.media-amazon.com/images/M/MV5BOWM4NT...   \n",
       "1  https://m.media-amazon.com/images/M/MV5BZGUyN2...   \n",
       "2  https://m.media-amazon.com/images/M/MV5BODM2MD...   \n",
       "3  https://m.media-amazon.com/images/M/MV5BNWRkMz...   \n",
       "4  https://m.media-amazon.com/images/M/MV5BODYyNW...   \n",
       "\n",
       "                                  TMDb Trailer Trailer Site  \n",
       "0                                          NaN          NaN  \n",
       "1  https://www.youtube.com/watch?v=eIbcxPy4okQ      YouTube  \n",
       "2  https://www.youtube.com/watch?v=0RvV7TNUlkQ      YouTube  \n",
       "3                                          NaN          NaN  \n",
       "4                                          NaN          NaN  \n",
       "\n",
       "[5 rows x 29 columns]"
      ]
     },
     "execution_count": 5,
     "metadata": {},
     "output_type": "execute_result"
    }
   ],
   "source": [
    "data1 = pd.read_csv('/Users/alice/Downloads/netflix-rotten-tomatoes-metacritic-imdb.csv')\n",
    "data1.head()"
   ]
  },
  {
   "cell_type": "code",
   "execution_count": null,
   "id": "bb5cb61c",
   "metadata": {
    "scrolled": false
   },
   "outputs": [],
   "source": [
    "data1.info()"
   ]
  },
  {
   "cell_type": "code",
   "execution_count": null,
   "id": "66087dd6",
   "metadata": {},
   "outputs": [],
   "source": [
    "data1.isnull().sum()"
   ]
  },
  {
   "cell_type": "code",
   "execution_count": 51,
   "id": "78de8dd8",
   "metadata": {
    "scrolled": false
   },
   "outputs": [
    {
     "data": {
      "text/html": [
       "<div>\n",
       "<style scoped>\n",
       "    .dataframe tbody tr th:only-of-type {\n",
       "        vertical-align: middle;\n",
       "    }\n",
       "\n",
       "    .dataframe tbody tr th {\n",
       "        vertical-align: top;\n",
       "    }\n",
       "\n",
       "    .dataframe thead th {\n",
       "        text-align: right;\n",
       "    }\n",
       "</style>\n",
       "<table border=\"1\" class=\"dataframe\">\n",
       "  <thead>\n",
       "    <tr style=\"text-align: right;\">\n",
       "      <th></th>\n",
       "      <th>Title</th>\n",
       "      <th>Genre</th>\n",
       "      <th>Languages</th>\n",
       "      <th>Series or Movie</th>\n",
       "      <th>Country Availability</th>\n",
       "      <th>Runtime</th>\n",
       "      <th>Awards Received</th>\n",
       "      <th>IMDb Score</th>\n",
       "      <th>Rotten Tomatoes Score</th>\n",
       "      <th>Summary</th>\n",
       "    </tr>\n",
       "  </thead>\n",
       "  <tbody>\n",
       "    <tr>\n",
       "      <th>0</th>\n",
       "      <td>Lets Fight Ghost</td>\n",
       "      <td>Crime, Drama, Fantasy, Horror, Romance</td>\n",
       "      <td>Swedish, Spanish</td>\n",
       "      <td>Series</td>\n",
       "      <td>Thailand</td>\n",
       "      <td>&lt; 30 minutes</td>\n",
       "      <td>74.0</td>\n",
       "      <td>7.9</td>\n",
       "      <td>98.0</td>\n",
       "      <td>A med student with a supernatural gift tries t...</td>\n",
       "    </tr>\n",
       "    <tr>\n",
       "      <th>1</th>\n",
       "      <td>HOW TO BUILD A GIRL</td>\n",
       "      <td>Comedy</td>\n",
       "      <td>English</td>\n",
       "      <td>Movie</td>\n",
       "      <td>Canada</td>\n",
       "      <td>1-2 hour</td>\n",
       "      <td>1.0</td>\n",
       "      <td>5.8</td>\n",
       "      <td>79.0</td>\n",
       "      <td>When nerdy Johanna moves to London, things get...</td>\n",
       "    </tr>\n",
       "    <tr>\n",
       "      <th>2</th>\n",
       "      <td>Centigrade</td>\n",
       "      <td>Drama, Thriller</td>\n",
       "      <td>English</td>\n",
       "      <td>Movie</td>\n",
       "      <td>Canada</td>\n",
       "      <td>1-2 hour</td>\n",
       "      <td>NaN</td>\n",
       "      <td>4.3</td>\n",
       "      <td>NaN</td>\n",
       "      <td>Trapped in a frozen car during a blizzard, a p...</td>\n",
       "    </tr>\n",
       "    <tr>\n",
       "      <th>3</th>\n",
       "      <td>ANNE+</td>\n",
       "      <td>Drama</td>\n",
       "      <td>Turkish</td>\n",
       "      <td>Series</td>\n",
       "      <td>Belgium,Netherlands</td>\n",
       "      <td>&lt; 30 minutes</td>\n",
       "      <td>1.0</td>\n",
       "      <td>6.5</td>\n",
       "      <td>NaN</td>\n",
       "      <td>Upon moving into a new place, a 20-something r...</td>\n",
       "    </tr>\n",
       "    <tr>\n",
       "      <th>4</th>\n",
       "      <td>Moxie</td>\n",
       "      <td>Animation, Short, Drama</td>\n",
       "      <td>English</td>\n",
       "      <td>Movie</td>\n",
       "      <td>Lithuania,Poland,France,Iceland,Italy,Spain,Gr...</td>\n",
       "      <td>1-2 hour</td>\n",
       "      <td>NaN</td>\n",
       "      <td>6.3</td>\n",
       "      <td>NaN</td>\n",
       "      <td>Inspired by her moms rebellious past and a con...</td>\n",
       "    </tr>\n",
       "  </tbody>\n",
       "</table>\n",
       "</div>"
      ],
      "text/plain": [
       "                 Title                                   Genre  \\\n",
       "0     Lets Fight Ghost  Crime, Drama, Fantasy, Horror, Romance   \n",
       "1  HOW TO BUILD A GIRL                                  Comedy   \n",
       "2           Centigrade                         Drama, Thriller   \n",
       "3                ANNE+                                   Drama   \n",
       "4                Moxie                 Animation, Short, Drama   \n",
       "\n",
       "          Languages Series or Movie  \\\n",
       "0  Swedish, Spanish          Series   \n",
       "1           English           Movie   \n",
       "2           English           Movie   \n",
       "3           Turkish          Series   \n",
       "4           English           Movie   \n",
       "\n",
       "                                Country Availability       Runtime  \\\n",
       "0                                           Thailand  < 30 minutes   \n",
       "1                                             Canada      1-2 hour   \n",
       "2                                             Canada      1-2 hour   \n",
       "3                                Belgium,Netherlands  < 30 minutes   \n",
       "4  Lithuania,Poland,France,Iceland,Italy,Spain,Gr...      1-2 hour   \n",
       "\n",
       "   Awards Received  IMDb Score  Rotten Tomatoes Score  \\\n",
       "0             74.0         7.9                   98.0   \n",
       "1              1.0         5.8                   79.0   \n",
       "2              NaN         4.3                    NaN   \n",
       "3              1.0         6.5                    NaN   \n",
       "4              NaN         6.3                    NaN   \n",
       "\n",
       "                                             Summary  \n",
       "0  A med student with a supernatural gift tries t...  \n",
       "1  When nerdy Johanna moves to London, things get...  \n",
       "2  Trapped in a frozen car during a blizzard, a p...  \n",
       "3  Upon moving into a new place, a 20-something r...  \n",
       "4  Inspired by her moms rebellious past and a con...  "
      ]
     },
     "execution_count": 51,
     "metadata": {},
     "output_type": "execute_result"
    }
   ],
   "source": [
    "main_df = data1[['Title','Genre','Languages','Series or Movie','Country Availability','Runtime','Awards Received','IMDb Score'\n",
    "            ,'Rotten Tomatoes Score','Summary']]\n",
    "main_df.head()"
   ]
  },
  {
   "cell_type": "code",
   "execution_count": 9,
   "id": "25c448fb",
   "metadata": {},
   "outputs": [
    {
     "data": {
      "text/html": [
       "<div>\n",
       "<style scoped>\n",
       "    .dataframe tbody tr th:only-of-type {\n",
       "        vertical-align: middle;\n",
       "    }\n",
       "\n",
       "    .dataframe tbody tr th {\n",
       "        vertical-align: top;\n",
       "    }\n",
       "\n",
       "    .dataframe thead th {\n",
       "        text-align: right;\n",
       "    }\n",
       "</style>\n",
       "<table border=\"1\" class=\"dataframe\">\n",
       "  <thead>\n",
       "    <tr style=\"text-align: right;\">\n",
       "      <th></th>\n",
       "      <th>Title</th>\n",
       "      <th>Genre</th>\n",
       "      <th>Languages</th>\n",
       "      <th>Country Availability</th>\n",
       "      <th>Runtime</th>\n",
       "      <th>IMDb Score</th>\n",
       "      <th>Rotten Tomatoes Score</th>\n",
       "      <th>Summary</th>\n",
       "    </tr>\n",
       "    <tr>\n",
       "      <th>Series or Movie</th>\n",
       "      <th></th>\n",
       "      <th></th>\n",
       "      <th></th>\n",
       "      <th></th>\n",
       "      <th></th>\n",
       "      <th></th>\n",
       "      <th></th>\n",
       "      <th></th>\n",
       "    </tr>\n",
       "  </thead>\n",
       "  <tbody>\n",
       "    <tr>\n",
       "      <th>Movie</th>\n",
       "      <td>11697</td>\n",
       "      <td>10514</td>\n",
       "      <td>10416</td>\n",
       "      <td>11682</td>\n",
       "      <td>11697</td>\n",
       "      <td>10276</td>\n",
       "      <td>6199</td>\n",
       "      <td>11689</td>\n",
       "    </tr>\n",
       "    <tr>\n",
       "      <th>Series</th>\n",
       "      <td>3783</td>\n",
       "      <td>3256</td>\n",
       "      <td>3129</td>\n",
       "      <td>3779</td>\n",
       "      <td>3782</td>\n",
       "      <td>3105</td>\n",
       "      <td>183</td>\n",
       "      <td>3782</td>\n",
       "    </tr>\n",
       "  </tbody>\n",
       "</table>\n",
       "</div>"
      ],
      "text/plain": [
       "                 Title  Genre  Languages  Country Availability  Runtime  \\\n",
       "Series or Movie                                                           \n",
       "Movie            11697  10514      10416                 11682    11697   \n",
       "Series            3783   3256       3129                  3779     3782   \n",
       "\n",
       "                 IMDb Score  Rotten Tomatoes Score  Summary  \n",
       "Series or Movie                                              \n",
       "Movie                 10276                   6199    11689  \n",
       "Series                 3105                    183     3782  "
      ]
     },
     "execution_count": 9,
     "metadata": {},
     "output_type": "execute_result"
    }
   ],
   "source": [
    "main_df.groupby('Series or Movie').count()"
   ]
  },
  {
   "cell_type": "code",
   "execution_count": 33,
   "id": "d94ef41f",
   "metadata": {},
   "outputs": [],
   "source": [
    "series_df = main_df[main_df[\"Series or Movie\"] == \"Series\"]\n",
    "movies_df = main_df[main_df[\"Series or Movie\"] == \"Movie\"]"
   ]
  },
  {
   "cell_type": "code",
   "execution_count": 52,
   "id": "760443f5",
   "metadata": {},
   "outputs": [
    {
     "data": {
      "text/html": [
       "<div>\n",
       "<style scoped>\n",
       "    .dataframe tbody tr th:only-of-type {\n",
       "        vertical-align: middle;\n",
       "    }\n",
       "\n",
       "    .dataframe tbody tr th {\n",
       "        vertical-align: top;\n",
       "    }\n",
       "\n",
       "    .dataframe thead th {\n",
       "        text-align: right;\n",
       "    }\n",
       "</style>\n",
       "<table border=\"1\" class=\"dataframe\">\n",
       "  <thead>\n",
       "    <tr style=\"text-align: right;\">\n",
       "      <th></th>\n",
       "      <th>Title</th>\n",
       "      <th>Genre</th>\n",
       "      <th>Series or Movie</th>\n",
       "      <th>Rotten Tomatoes Score</th>\n",
       "      <th>Summary</th>\n",
       "    </tr>\n",
       "  </thead>\n",
       "  <tbody>\n",
       "    <tr>\n",
       "      <th>1137</th>\n",
       "      <td>A Lion in the House</td>\n",
       "      <td>Documentary</td>\n",
       "      <td>Series</td>\n",
       "      <td>100.0</td>\n",
       "      <td>Five kids and their resilient families navigat...</td>\n",
       "    </tr>\n",
       "    <tr>\n",
       "      <th>13844</th>\n",
       "      <td>The Game</td>\n",
       "      <td>Comedy, Drama, Romance, Sport</td>\n",
       "      <td>Series</td>\n",
       "      <td>100.0</td>\n",
       "      <td>A pro footballers life is hard, but it may be ...</td>\n",
       "    </tr>\n",
       "    <tr>\n",
       "      <th>4884</th>\n",
       "      <td>Vagabond</td>\n",
       "      <td>Drama, Romance</td>\n",
       "      <td>Series</td>\n",
       "      <td>100.0</td>\n",
       "      <td>When his nephew dies in a plane crash, stunt m...</td>\n",
       "    </tr>\n",
       "    <tr>\n",
       "      <th>3926</th>\n",
       "      <td>The New Land</td>\n",
       "      <td>Drama, Western</td>\n",
       "      <td>Series</td>\n",
       "      <td>100.0</td>\n",
       "      <td>In this sequel to “Utvandrarna,” the Nilssons ...</td>\n",
       "    </tr>\n",
       "    <tr>\n",
       "      <th>3142</th>\n",
       "      <td>The Search</td>\n",
       "      <td>Drama, War</td>\n",
       "      <td>Series</td>\n",
       "      <td>100.0</td>\n",
       "      <td>When a girl vanishes from a suburb near Mexico...</td>\n",
       "    </tr>\n",
       "    <tr>\n",
       "      <th>0</th>\n",
       "      <td>Lets Fight Ghost</td>\n",
       "      <td>Crime, Drama, Fantasy, Horror, Romance</td>\n",
       "      <td>Series</td>\n",
       "      <td>98.0</td>\n",
       "      <td>A med student with a supernatural gift tries t...</td>\n",
       "    </tr>\n",
       "    <tr>\n",
       "      <th>13250</th>\n",
       "      <td>Monty Pythons Fliegender Zirkus</td>\n",
       "      <td>Adventure, Comedy, Fantasy</td>\n",
       "      <td>Series</td>\n",
       "      <td>97.0</td>\n",
       "      <td>The Pythons elevate the absurd to new heights ...</td>\n",
       "    </tr>\n",
       "    <tr>\n",
       "      <th>8051</th>\n",
       "      <td>This Evening</td>\n",
       "      <td>Documentary</td>\n",
       "      <td>Series</td>\n",
       "      <td>97.0</td>\n",
       "      <td>The lives of a wealthy couple hiding their mar...</td>\n",
       "    </tr>\n",
       "    <tr>\n",
       "      <th>1358</th>\n",
       "      <td>Aliens</td>\n",
       "      <td>Action, Adventure, Sci-Fi, Thriller</td>\n",
       "      <td>Series</td>\n",
       "      <td>97.0</td>\n",
       "      <td>In a world where humans and aliens live segreg...</td>\n",
       "    </tr>\n",
       "    <tr>\n",
       "      <th>1337</th>\n",
       "      <td>Spotlight</td>\n",
       "      <td>Biography, Crime, Drama</td>\n",
       "      <td>Series</td>\n",
       "      <td>97.0</td>\n",
       "      <td>At the Berlin School of Arts, a group of motiv...</td>\n",
       "    </tr>\n",
       "  </tbody>\n",
       "</table>\n",
       "</div>"
      ],
      "text/plain": [
       "                                 Title  \\\n",
       "1137               A Lion in the House   \n",
       "13844                         The Game   \n",
       "4884                          Vagabond   \n",
       "3926                      The New Land   \n",
       "3142                        The Search   \n",
       "0                     Lets Fight Ghost   \n",
       "13250  Monty Pythons Fliegender Zirkus   \n",
       "8051                      This Evening   \n",
       "1358                            Aliens   \n",
       "1337                         Spotlight   \n",
       "\n",
       "                                        Genre Series or Movie  \\\n",
       "1137                              Documentary          Series   \n",
       "13844           Comedy, Drama, Romance, Sport          Series   \n",
       "4884                           Drama, Romance          Series   \n",
       "3926                           Drama, Western          Series   \n",
       "3142                               Drama, War          Series   \n",
       "0      Crime, Drama, Fantasy, Horror, Romance          Series   \n",
       "13250              Adventure, Comedy, Fantasy          Series   \n",
       "8051                              Documentary          Series   \n",
       "1358      Action, Adventure, Sci-Fi, Thriller          Series   \n",
       "1337                  Biography, Crime, Drama          Series   \n",
       "\n",
       "       Rotten Tomatoes Score  \\\n",
       "1137                   100.0   \n",
       "13844                  100.0   \n",
       "4884                   100.0   \n",
       "3926                   100.0   \n",
       "3142                   100.0   \n",
       "0                       98.0   \n",
       "13250                   97.0   \n",
       "8051                    97.0   \n",
       "1358                    97.0   \n",
       "1337                    97.0   \n",
       "\n",
       "                                                 Summary  \n",
       "1137   Five kids and their resilient families navigat...  \n",
       "13844  A pro footballers life is hard, but it may be ...  \n",
       "4884   When his nephew dies in a plane crash, stunt m...  \n",
       "3926   In this sequel to “Utvandrarna,” the Nilssons ...  \n",
       "3142   When a girl vanishes from a suburb near Mexico...  \n",
       "0      A med student with a supernatural gift tries t...  \n",
       "13250  The Pythons elevate the absurd to new heights ...  \n",
       "8051   The lives of a wealthy couple hiding their mar...  \n",
       "1358   In a world where humans and aliens live segreg...  \n",
       "1337   At the Berlin School of Arts, a group of motiv...  "
      ]
     },
     "execution_count": 52,
     "metadata": {},
     "output_type": "execute_result"
    }
   ],
   "source": [
    "series_df_rt = series_df.dropna(subset=['Rotten Tomatoes Score'])\n",
    "series_df_rt = series_df_rt.sort_values(by = 'Rotten Tomatoes Score', ascending = False)\n",
    "top_s_rt_10_df = pd.DataFrame(series_df_rt[:10])\n",
    "top_s_rt_10_df[['Title','Genre','Series or Movie','Rotten Tomatoes Score','Summary']]"
   ]
  },
  {
   "cell_type": "code",
   "execution_count": 54,
   "id": "1ee27116",
   "metadata": {},
   "outputs": [
    {
     "data": {
      "text/html": [
       "<div>\n",
       "<style scoped>\n",
       "    .dataframe tbody tr th:only-of-type {\n",
       "        vertical-align: middle;\n",
       "    }\n",
       "\n",
       "    .dataframe tbody tr th {\n",
       "        vertical-align: top;\n",
       "    }\n",
       "\n",
       "    .dataframe thead th {\n",
       "        text-align: right;\n",
       "    }\n",
       "</style>\n",
       "<table border=\"1\" class=\"dataframe\">\n",
       "  <thead>\n",
       "    <tr style=\"text-align: right;\">\n",
       "      <th></th>\n",
       "      <th>Title</th>\n",
       "      <th>Genre</th>\n",
       "      <th>Series or Movie</th>\n",
       "      <th>Rotten Tomatoes Score</th>\n",
       "      <th>Summary</th>\n",
       "    </tr>\n",
       "  </thead>\n",
       "  <tbody>\n",
       "    <tr>\n",
       "      <th>11355</th>\n",
       "      <td>Ali Wong: Baby Cobra</td>\n",
       "      <td>Comedy</td>\n",
       "      <td>Movie</td>\n",
       "      <td>100.0</td>\n",
       "      <td>Ali Wongs stand up special delves into her sex...</td>\n",
       "    </tr>\n",
       "    <tr>\n",
       "      <th>9273</th>\n",
       "      <td>Law of Desire</td>\n",
       "      <td>Comedy, Drama, Thriller</td>\n",
       "      <td>Movie</td>\n",
       "      <td>100.0</td>\n",
       "      <td>A volcanic, obsessive lover turns the life of ...</td>\n",
       "    </tr>\n",
       "    <tr>\n",
       "      <th>1855</th>\n",
       "      <td>Red Dog: True Blue</td>\n",
       "      <td>Comedy, Drama, Family, Romance</td>\n",
       "      <td>Movie</td>\n",
       "      <td>100.0</td>\n",
       "      <td>While struggling to adjust to life at his gran...</td>\n",
       "    </tr>\n",
       "    <tr>\n",
       "      <th>9294</th>\n",
       "      <td>Saving Capitalism</td>\n",
       "      <td>Documentary</td>\n",
       "      <td>Movie</td>\n",
       "      <td>100.0</td>\n",
       "      <td>Former Secretary of Labor Robert Reich meets w...</td>\n",
       "    </tr>\n",
       "    <tr>\n",
       "      <th>6247</th>\n",
       "      <td>The Looming Storm</td>\n",
       "      <td>Crime</td>\n",
       "      <td>Movie</td>\n",
       "      <td>100.0</td>\n",
       "      <td>A laid-off factory security chief grows obsess...</td>\n",
       "    </tr>\n",
       "    <tr>\n",
       "      <th>11976</th>\n",
       "      <td>Modern Times</td>\n",
       "      <td>Comedy, Drama, Family, Romance</td>\n",
       "      <td>Movie</td>\n",
       "      <td>100.0</td>\n",
       "      <td>Conceived and produced as talking pictures wer...</td>\n",
       "    </tr>\n",
       "    <tr>\n",
       "      <th>6231</th>\n",
       "      <td>Ten Years</td>\n",
       "      <td>Drama</td>\n",
       "      <td>Movie</td>\n",
       "      <td>100.0</td>\n",
       "      <td>Five shorts reveal a fictional Hong Kong in 20...</td>\n",
       "    </tr>\n",
       "    <tr>\n",
       "      <th>11379</th>\n",
       "      <td>Team Foxcatcher</td>\n",
       "      <td>Documentary, Biography, Crime, History, Sport</td>\n",
       "      <td>Movie</td>\n",
       "      <td>100.0</td>\n",
       "      <td>With never-before seen home video, this film r...</td>\n",
       "    </tr>\n",
       "    <tr>\n",
       "      <th>6212</th>\n",
       "      <td>ReMastered: The Two Killings of Sam Cooke</td>\n",
       "      <td>Documentary, Music</td>\n",
       "      <td>Movie</td>\n",
       "      <td>100.0</td>\n",
       "      <td>While Sam Cooke rose to stardom as a soul sing...</td>\n",
       "    </tr>\n",
       "    <tr>\n",
       "      <th>10699</th>\n",
       "      <td>Department Q: A Conspiracy of Faith</td>\n",
       "      <td>Crime, Drama, Mystery, Thriller</td>\n",
       "      <td>Movie</td>\n",
       "      <td>100.0</td>\n",
       "      <td>When a message washes ashore pointing to kidna...</td>\n",
       "    </tr>\n",
       "  </tbody>\n",
       "</table>\n",
       "</div>"
      ],
      "text/plain": [
       "                                           Title  \\\n",
       "11355                       Ali Wong: Baby Cobra   \n",
       "9273                               Law of Desire   \n",
       "1855                          Red Dog: True Blue   \n",
       "9294                           Saving Capitalism   \n",
       "6247                           The Looming Storm   \n",
       "11976                               Modern Times   \n",
       "6231                                   Ten Years   \n",
       "11379                            Team Foxcatcher   \n",
       "6212   ReMastered: The Two Killings of Sam Cooke   \n",
       "10699        Department Q: A Conspiracy of Faith   \n",
       "\n",
       "                                               Genre Series or Movie  \\\n",
       "11355                                         Comedy           Movie   \n",
       "9273                         Comedy, Drama, Thriller           Movie   \n",
       "1855                  Comedy, Drama, Family, Romance           Movie   \n",
       "9294                                     Documentary           Movie   \n",
       "6247                                           Crime           Movie   \n",
       "11976                 Comedy, Drama, Family, Romance           Movie   \n",
       "6231                                           Drama           Movie   \n",
       "11379  Documentary, Biography, Crime, History, Sport           Movie   \n",
       "6212                              Documentary, Music           Movie   \n",
       "10699                Crime, Drama, Mystery, Thriller           Movie   \n",
       "\n",
       "       Rotten Tomatoes Score  \\\n",
       "11355                  100.0   \n",
       "9273                   100.0   \n",
       "1855                   100.0   \n",
       "9294                   100.0   \n",
       "6247                   100.0   \n",
       "11976                  100.0   \n",
       "6231                   100.0   \n",
       "11379                  100.0   \n",
       "6212                   100.0   \n",
       "10699                  100.0   \n",
       "\n",
       "                                                 Summary  \n",
       "11355  Ali Wongs stand up special delves into her sex...  \n",
       "9273   A volcanic, obsessive lover turns the life of ...  \n",
       "1855   While struggling to adjust to life at his gran...  \n",
       "9294   Former Secretary of Labor Robert Reich meets w...  \n",
       "6247   A laid-off factory security chief grows obsess...  \n",
       "11976  Conceived and produced as talking pictures wer...  \n",
       "6231   Five shorts reveal a fictional Hong Kong in 20...  \n",
       "11379  With never-before seen home video, this film r...  \n",
       "6212   While Sam Cooke rose to stardom as a soul sing...  \n",
       "10699  When a message washes ashore pointing to kidna...  "
      ]
     },
     "execution_count": 54,
     "metadata": {},
     "output_type": "execute_result"
    }
   ],
   "source": [
    "movies_df_rt = movies_df.dropna(subset=['Rotten Tomatoes Score'])\n",
    "movies_df_rt = movies_df_rt.sort_values(by = 'Rotten Tomatoes Score', ascending = False)\n",
    "top_m_rt_10_df = pd.DataFrame(movies_df_rt[:10])\n",
    "top_m_rt_10_df[['Title','Genre','Series or Movie','Rotten Tomatoes Score','Summary']]"
   ]
  },
  {
   "cell_type": "code",
   "execution_count": null,
   "id": "5c25b79c",
   "metadata": {},
   "outputs": [],
   "source": []
  },
  {
   "cell_type": "code",
   "execution_count": 20,
   "id": "72150a80",
   "metadata": {},
   "outputs": [
    {
     "data": {
      "text/html": [
       "<div>\n",
       "<style scoped>\n",
       "    .dataframe tbody tr th:only-of-type {\n",
       "        vertical-align: middle;\n",
       "    }\n",
       "\n",
       "    .dataframe tbody tr th {\n",
       "        vertical-align: top;\n",
       "    }\n",
       "\n",
       "    .dataframe thead th {\n",
       "        text-align: right;\n",
       "    }\n",
       "</style>\n",
       "<table border=\"1\" class=\"dataframe\">\n",
       "  <thead>\n",
       "    <tr style=\"text-align: right;\">\n",
       "      <th></th>\n",
       "      <th>Title</th>\n",
       "      <th>Genre</th>\n",
       "      <th>Series or Movie</th>\n",
       "      <th>IMDb Score</th>\n",
       "      <th>Summary</th>\n",
       "    </tr>\n",
       "  </thead>\n",
       "  <tbody>\n",
       "    <tr>\n",
       "      <th>2906</th>\n",
       "      <td>Flavours of Romania</td>\n",
       "      <td>Documentary</td>\n",
       "      <td>Series</td>\n",
       "      <td>9.5</td>\n",
       "      <td>Crisscrossing eight historic regions of Romani...</td>\n",
       "    </tr>\n",
       "    <tr>\n",
       "      <th>15406</th>\n",
       "      <td>Breaking Bad</td>\n",
       "      <td>Crime, Drama, Thriller</td>\n",
       "      <td>Series</td>\n",
       "      <td>9.5</td>\n",
       "      <td>A terminally ill chemistry teacher teams with ...</td>\n",
       "    </tr>\n",
       "    <tr>\n",
       "      <th>5873</th>\n",
       "      <td>Our Planet</td>\n",
       "      <td>Documentary</td>\n",
       "      <td>Series</td>\n",
       "      <td>9.3</td>\n",
       "      <td>Experience our planets natural beauty and exam...</td>\n",
       "    </tr>\n",
       "    <tr>\n",
       "      <th>3474</th>\n",
       "      <td>The Last Dance</td>\n",
       "      <td>Documentary, Biography, History, Sport</td>\n",
       "      <td>Series</td>\n",
       "      <td>9.2</td>\n",
       "      <td>This docuseries gives a definitive account of ...</td>\n",
       "    </tr>\n",
       "    <tr>\n",
       "      <th>11425</th>\n",
       "      <td>Rick and Morty</td>\n",
       "      <td>Animation, Adventure, Comedy, Sci-Fi</td>\n",
       "      <td>Series</td>\n",
       "      <td>9.2</td>\n",
       "      <td>Brilliant but boozy scientist Rick hijacks his...</td>\n",
       "    </tr>\n",
       "    <tr>\n",
       "      <th>7170</th>\n",
       "      <td>Im Sorry</td>\n",
       "      <td>Documentary</td>\n",
       "      <td>Series</td>\n",
       "      <td>9.2</td>\n",
       "      <td>Life is a series of awkward situations for com...</td>\n",
       "    </tr>\n",
       "    <tr>\n",
       "      <th>15389</th>\n",
       "      <td>Avatar: The Last Airbender</td>\n",
       "      <td>Animation, Action, Adventure, Family, Fantasy,...</td>\n",
       "      <td>Series</td>\n",
       "      <td>9.2</td>\n",
       "      <td>Siblings Katara and Sokka wake young Aang from...</td>\n",
       "    </tr>\n",
       "    <tr>\n",
       "      <th>6663</th>\n",
       "      <td>Irmão do Jorel</td>\n",
       "      <td>Animation, Comedy, Family</td>\n",
       "      <td>Series</td>\n",
       "      <td>9.1</td>\n",
       "      <td>This is the story of a curly-haired boy who ha...</td>\n",
       "    </tr>\n",
       "    <tr>\n",
       "      <th>5178</th>\n",
       "      <td>Regiment Diaries</td>\n",
       "      <td>Documentary</td>\n",
       "      <td>Series</td>\n",
       "      <td>9.1</td>\n",
       "      <td>Historical footage and interviews with soldier...</td>\n",
       "    </tr>\n",
       "    <tr>\n",
       "      <th>14872</th>\n",
       "      <td>Sherlock</td>\n",
       "      <td>Crime, Drama, Mystery, Thriller</td>\n",
       "      <td>Series</td>\n",
       "      <td>9.1</td>\n",
       "      <td>In this updated take on Arthur Conan Doyles be...</td>\n",
       "    </tr>\n",
       "  </tbody>\n",
       "</table>\n",
       "</div>"
      ],
      "text/plain": [
       "                            Title  \\\n",
       "2906          Flavours of Romania   \n",
       "15406                Breaking Bad   \n",
       "5873                   Our Planet   \n",
       "3474               The Last Dance   \n",
       "11425              Rick and Morty   \n",
       "7170                     Im Sorry   \n",
       "15389  Avatar: The Last Airbender   \n",
       "6663              Irmão do Jorel   \n",
       "5178             Regiment Diaries   \n",
       "14872                    Sherlock   \n",
       "\n",
       "                                                   Genre Series or Movie  \\\n",
       "2906                                         Documentary          Series   \n",
       "15406                             Crime, Drama, Thriller          Series   \n",
       "5873                                         Documentary          Series   \n",
       "3474              Documentary, Biography, History, Sport          Series   \n",
       "11425               Animation, Adventure, Comedy, Sci-Fi          Series   \n",
       "7170                                         Documentary          Series   \n",
       "15389  Animation, Action, Adventure, Family, Fantasy,...          Series   \n",
       "6663                           Animation, Comedy, Family          Series   \n",
       "5178                                         Documentary          Series   \n",
       "14872                    Crime, Drama, Mystery, Thriller          Series   \n",
       "\n",
       "       IMDb Score                                            Summary  \n",
       "2906          9.5  Crisscrossing eight historic regions of Romani...  \n",
       "15406         9.5  A terminally ill chemistry teacher teams with ...  \n",
       "5873          9.3  Experience our planets natural beauty and exam...  \n",
       "3474          9.2  This docuseries gives a definitive account of ...  \n",
       "11425         9.2  Brilliant but boozy scientist Rick hijacks his...  \n",
       "7170          9.2  Life is a series of awkward situations for com...  \n",
       "15389         9.2  Siblings Katara and Sokka wake young Aang from...  \n",
       "6663          9.1  This is the story of a curly-haired boy who ha...  \n",
       "5178          9.1  Historical footage and interviews with soldier...  \n",
       "14872         9.1  In this updated take on Arthur Conan Doyles be...  "
      ]
     },
     "execution_count": 20,
     "metadata": {},
     "output_type": "execute_result"
    }
   ],
   "source": [
    "series_df_imdb = series_df.dropna(subset=['IMDb Score'])\n",
    "series_df_imdb = series_df_imdb.sort_values(by = 'IMDb Score', ascending = False)\n",
    "top_s_imdb_10_df = pd.DataFrame(series_df_imdb[:10])\n",
    "top_s_imdb_10_df[['Title','Genre','Series or Movie','IMDb Score','Summary']]"
   ]
  },
  {
   "cell_type": "code",
   "execution_count": 21,
   "id": "24ab44ed",
   "metadata": {
    "scrolled": true
   },
   "outputs": [
    {
     "data": {
      "text/html": [
       "<div>\n",
       "<style scoped>\n",
       "    .dataframe tbody tr th:only-of-type {\n",
       "        vertical-align: middle;\n",
       "    }\n",
       "\n",
       "    .dataframe tbody tr th {\n",
       "        vertical-align: top;\n",
       "    }\n",
       "\n",
       "    .dataframe thead th {\n",
       "        text-align: right;\n",
       "    }\n",
       "</style>\n",
       "<table border=\"1\" class=\"dataframe\">\n",
       "  <thead>\n",
       "    <tr style=\"text-align: right;\">\n",
       "      <th></th>\n",
       "      <th>Title</th>\n",
       "      <th>Genre</th>\n",
       "      <th>Series or Movie</th>\n",
       "      <th>IMDb Score</th>\n",
       "      <th>Summary</th>\n",
       "    </tr>\n",
       "  </thead>\n",
       "  <tbody>\n",
       "    <tr>\n",
       "      <th>293</th>\n",
       "      <td>No Festival</td>\n",
       "      <td>Documentary, Music</td>\n",
       "      <td>Movie</td>\n",
       "      <td>9.7</td>\n",
       "      <td>Due to a pandemic, the Electric Castle music f...</td>\n",
       "    </tr>\n",
       "    <tr>\n",
       "      <th>15314</th>\n",
       "      <td>Horsin Around</td>\n",
       "      <td>Family</td>\n",
       "      <td>Movie</td>\n",
       "      <td>9.5</td>\n",
       "      <td>Three little orphans - one, two, three. Withou...</td>\n",
       "    </tr>\n",
       "    <tr>\n",
       "      <th>205</th>\n",
       "      <td>The Dream House</td>\n",
       "      <td>Comedy, Drama, Fantasy</td>\n",
       "      <td>Movie</td>\n",
       "      <td>9.4</td>\n",
       "      <td>An ambitious husband tries to repair both his ...</td>\n",
       "    </tr>\n",
       "    <tr>\n",
       "      <th>14621</th>\n",
       "      <td>The Shawshank Redemption</td>\n",
       "      <td>Drama</td>\n",
       "      <td>Movie</td>\n",
       "      <td>9.3</td>\n",
       "      <td>Framed for murder, upstanding banker Andy Dufr...</td>\n",
       "    </tr>\n",
       "    <tr>\n",
       "      <th>14696</th>\n",
       "      <td>The Godfather</td>\n",
       "      <td>Crime, Drama</td>\n",
       "      <td>Movie</td>\n",
       "      <td>9.2</td>\n",
       "      <td>When an organized-crime family patriarch barel...</td>\n",
       "    </tr>\n",
       "    <tr>\n",
       "      <th>...</th>\n",
       "      <td>...</td>\n",
       "      <td>...</td>\n",
       "      <td>...</td>\n",
       "      <td>...</td>\n",
       "      <td>...</td>\n",
       "    </tr>\n",
       "    <tr>\n",
       "      <th>13403</th>\n",
       "      <td>Senna</td>\n",
       "      <td>Documentary, Biography, Sport</td>\n",
       "      <td>Movie</td>\n",
       "      <td>8.5</td>\n",
       "      <td>This fast-paced documentary profiles Ayrton Se...</td>\n",
       "    </tr>\n",
       "    <tr>\n",
       "      <th>13936</th>\n",
       "      <td>Bo Burnham: what.</td>\n",
       "      <td>Comedy, Music</td>\n",
       "      <td>Movie</td>\n",
       "      <td>8.5</td>\n",
       "      <td>Left brain and right brain duke it out -- and ...</td>\n",
       "    </tr>\n",
       "    <tr>\n",
       "      <th>11000</th>\n",
       "      <td>Louis C.K.: Hilarious</td>\n",
       "      <td>Comedy</td>\n",
       "      <td>Movie</td>\n",
       "      <td>8.5</td>\n",
       "      <td>Emmy-winning comedy writer Louis C.K. brings h...</td>\n",
       "    </tr>\n",
       "    <tr>\n",
       "      <th>3362</th>\n",
       "      <td>City Lights</td>\n",
       "      <td>Comedy, Drama, Romance</td>\n",
       "      <td>Movie</td>\n",
       "      <td>8.5</td>\n",
       "      <td>In his final silent film, Charlie Chaplin make...</td>\n",
       "    </tr>\n",
       "    <tr>\n",
       "      <th>15230</th>\n",
       "      <td>Bill Burr: Im Sorry You Feel That Way</td>\n",
       "      <td>Comedy</td>\n",
       "      <td>Movie</td>\n",
       "      <td>8.4</td>\n",
       "      <td>Bill Burr escapes the zombie apocalypse, explo...</td>\n",
       "    </tr>\n",
       "  </tbody>\n",
       "</table>\n",
       "<p>100 rows × 5 columns</p>\n",
       "</div>"
      ],
      "text/plain": [
       "                                       Title                          Genre  \\\n",
       "293                              No Festival             Documentary, Music   \n",
       "15314                          Horsin Around                         Family   \n",
       "205                          The Dream House         Comedy, Drama, Fantasy   \n",
       "14621               The Shawshank Redemption                          Drama   \n",
       "14696                          The Godfather                   Crime, Drama   \n",
       "...                                      ...                            ...   \n",
       "13403                                  Senna  Documentary, Biography, Sport   \n",
       "13936                      Bo Burnham: what.                  Comedy, Music   \n",
       "11000                  Louis C.K.: Hilarious                         Comedy   \n",
       "3362                             City Lights         Comedy, Drama, Romance   \n",
       "15230  Bill Burr: Im Sorry You Feel That Way                         Comedy   \n",
       "\n",
       "      Series or Movie  IMDb Score  \\\n",
       "293             Movie         9.7   \n",
       "15314           Movie         9.5   \n",
       "205             Movie         9.4   \n",
       "14621           Movie         9.3   \n",
       "14696           Movie         9.2   \n",
       "...               ...         ...   \n",
       "13403           Movie         8.5   \n",
       "13936           Movie         8.5   \n",
       "11000           Movie         8.5   \n",
       "3362            Movie         8.5   \n",
       "15230           Movie         8.4   \n",
       "\n",
       "                                                 Summary  \n",
       "293    Due to a pandemic, the Electric Castle music f...  \n",
       "15314  Three little orphans - one, two, three. Withou...  \n",
       "205    An ambitious husband tries to repair both his ...  \n",
       "14621  Framed for murder, upstanding banker Andy Dufr...  \n",
       "14696  When an organized-crime family patriarch barel...  \n",
       "...                                                  ...  \n",
       "13403  This fast-paced documentary profiles Ayrton Se...  \n",
       "13936  Left brain and right brain duke it out -- and ...  \n",
       "11000  Emmy-winning comedy writer Louis C.K. brings h...  \n",
       "3362   In his final silent film, Charlie Chaplin make...  \n",
       "15230  Bill Burr escapes the zombie apocalypse, explo...  \n",
       "\n",
       "[100 rows x 5 columns]"
      ]
     },
     "execution_count": 21,
     "metadata": {},
     "output_type": "execute_result"
    }
   ],
   "source": [
    "movies_imdb_rt = movies_df.dropna(subset=['IMDb Score'])\n",
    "movies_imdb_rt = movies_imdb_rt.sort_values(by = 'IMDb Score', ascending = False)\n",
    "top_m_imdb_10_df = pd.DataFrame(movies_imdb_rt[:100])\n",
    "top_m_imdb_10_df[['Title','Genre','Series or Movie','IMDb Score','Summary']]"
   ]
  },
  {
   "cell_type": "code",
   "execution_count": 55,
   "id": "d9d6036b",
   "metadata": {},
   "outputs": [],
   "source": [
    "top_m_rt_100_df = pd.DataFrame(movies_df_rt[:100])\n",
    "top_m_imdb_100_df = pd.DataFrame(movies_imdb_rt[:100])"
   ]
  },
  {
   "cell_type": "code",
   "execution_count": 56,
   "id": "fffff6fb",
   "metadata": {},
   "outputs": [
    {
     "data": {
      "text/plain": [
       "['Modern Times']"
      ]
     },
     "execution_count": 56,
     "metadata": {},
     "output_type": "execute_result"
    }
   ],
   "source": [
    "#Finding the overlap movies from ranking top 10 based on IMDb score and top 10 based on Rotten Tomato score\n",
    "def overlap_entry(list1, list2):\n",
    "    overlap_list = []\n",
    "    result = False\n",
    "    for x in list1:\n",
    "        for y in list2:\n",
    "            if x == y:\n",
    "                result = True\n",
    "                overlap_list.append(x)\n",
    "                return (overlap_list)       \n",
    "    return (\"There is no overlap entry\")\n",
    "\n",
    "top_m_rt_100_df = pd.DataFrame(movies_df_rt[:100])\n",
    "top_m_imdb_100_df = pd.DataFrame(movies_imdb_rt[:100])\n",
    "overlap_entry(top_m_rt_100_df[\"Title\"], top_m_imdb_100_df[\"Title\"])"
   ]
  },
  {
   "cell_type": "code",
   "execution_count": 40,
   "id": "0f6a95f7",
   "metadata": {},
   "outputs": [
    {
     "data": {
      "text/html": [
       "<div>\n",
       "<style scoped>\n",
       "    .dataframe tbody tr th:only-of-type {\n",
       "        vertical-align: middle;\n",
       "    }\n",
       "\n",
       "    .dataframe tbody tr th {\n",
       "        vertical-align: top;\n",
       "    }\n",
       "\n",
       "    .dataframe thead th {\n",
       "        text-align: right;\n",
       "    }\n",
       "</style>\n",
       "<table border=\"1\" class=\"dataframe\">\n",
       "  <thead>\n",
       "    <tr style=\"text-align: right;\">\n",
       "      <th></th>\n",
       "      <th>Title</th>\n",
       "      <th>Genre</th>\n",
       "      <th>Series or Movie</th>\n",
       "      <th>IMDb Score</th>\n",
       "      <th>Summary</th>\n",
       "    </tr>\n",
       "  </thead>\n",
       "  <tbody>\n",
       "    <tr>\n",
       "      <th>2906</th>\n",
       "      <td>Flavours of Romania</td>\n",
       "      <td>Documentary</td>\n",
       "      <td>Series</td>\n",
       "      <td>9.5</td>\n",
       "      <td>Crisscrossing eight historic regions of Romani...</td>\n",
       "    </tr>\n",
       "    <tr>\n",
       "      <th>15406</th>\n",
       "      <td>Breaking Bad</td>\n",
       "      <td>Crime, Drama, Thriller</td>\n",
       "      <td>Series</td>\n",
       "      <td>9.5</td>\n",
       "      <td>A terminally ill chemistry teacher teams with ...</td>\n",
       "    </tr>\n",
       "    <tr>\n",
       "      <th>5873</th>\n",
       "      <td>Our Planet</td>\n",
       "      <td>Documentary</td>\n",
       "      <td>Series</td>\n",
       "      <td>9.3</td>\n",
       "      <td>Experience our planets natural beauty and exam...</td>\n",
       "    </tr>\n",
       "    <tr>\n",
       "      <th>3474</th>\n",
       "      <td>The Last Dance</td>\n",
       "      <td>Documentary, Biography, History, Sport</td>\n",
       "      <td>Series</td>\n",
       "      <td>9.2</td>\n",
       "      <td>This docuseries gives a definitive account of ...</td>\n",
       "    </tr>\n",
       "    <tr>\n",
       "      <th>11425</th>\n",
       "      <td>Rick and Morty</td>\n",
       "      <td>Animation, Adventure, Comedy, Sci-Fi</td>\n",
       "      <td>Series</td>\n",
       "      <td>9.2</td>\n",
       "      <td>Brilliant but boozy scientist Rick hijacks his...</td>\n",
       "    </tr>\n",
       "    <tr>\n",
       "      <th>7170</th>\n",
       "      <td>Im Sorry</td>\n",
       "      <td>Documentary</td>\n",
       "      <td>Series</td>\n",
       "      <td>9.2</td>\n",
       "      <td>Life is a series of awkward situations for com...</td>\n",
       "    </tr>\n",
       "    <tr>\n",
       "      <th>15389</th>\n",
       "      <td>Avatar: The Last Airbender</td>\n",
       "      <td>Animation, Action, Adventure, Family, Fantasy,...</td>\n",
       "      <td>Series</td>\n",
       "      <td>9.2</td>\n",
       "      <td>Siblings Katara and Sokka wake young Aang from...</td>\n",
       "    </tr>\n",
       "    <tr>\n",
       "      <th>6663</th>\n",
       "      <td>Irmão do Jorel</td>\n",
       "      <td>Animation, Comedy, Family</td>\n",
       "      <td>Series</td>\n",
       "      <td>9.1</td>\n",
       "      <td>This is the story of a curly-haired boy who ha...</td>\n",
       "    </tr>\n",
       "    <tr>\n",
       "      <th>5178</th>\n",
       "      <td>Regiment Diaries</td>\n",
       "      <td>Documentary</td>\n",
       "      <td>Series</td>\n",
       "      <td>9.1</td>\n",
       "      <td>Historical footage and interviews with soldier...</td>\n",
       "    </tr>\n",
       "    <tr>\n",
       "      <th>14872</th>\n",
       "      <td>Sherlock</td>\n",
       "      <td>Crime, Drama, Mystery, Thriller</td>\n",
       "      <td>Series</td>\n",
       "      <td>9.1</td>\n",
       "      <td>In this updated take on Arthur Conan Doyles be...</td>\n",
       "    </tr>\n",
       "    <tr>\n",
       "      <th>1179</th>\n",
       "      <td>Leah Remini: Scientology and the Aftermath</td>\n",
       "      <td>Documentary</td>\n",
       "      <td>Series</td>\n",
       "      <td>9.1</td>\n",
       "      <td>Former Scientology members share detailed acco...</td>\n",
       "    </tr>\n",
       "    <tr>\n",
       "      <th>10965</th>\n",
       "      <td>Leyla and Mecnun</td>\n",
       "      <td>Adventure, Comedy, Drama, Fantasy, Mystery, Ro...</td>\n",
       "      <td>Series</td>\n",
       "      <td>9.1</td>\n",
       "      <td>Destiny brings Mecnun and Leyla together as ne...</td>\n",
       "    </tr>\n",
       "    <tr>\n",
       "      <th>14066</th>\n",
       "      <td>Fullmetal Alchemist: Brotherhood</td>\n",
       "      <td>Animation, Action, Adventure, Comedy, Drama, F...</td>\n",
       "      <td>Series</td>\n",
       "      <td>9.1</td>\n",
       "      <td>After both suffer physical damage -- brothers ...</td>\n",
       "    </tr>\n",
       "    <tr>\n",
       "      <th>3185</th>\n",
       "      <td>My Mister</td>\n",
       "      <td>Drama, Family</td>\n",
       "      <td>Series</td>\n",
       "      <td>9.1</td>\n",
       "      <td>In a world that is less than kind, a young wom...</td>\n",
       "    </tr>\n",
       "    <tr>\n",
       "      <th>3156</th>\n",
       "      <td>The World Between Us</td>\n",
       "      <td>Crime, Drama</td>\n",
       "      <td>Series</td>\n",
       "      <td>9.1</td>\n",
       "      <td>A couple reckons with the aftermath of their s...</td>\n",
       "    </tr>\n",
       "  </tbody>\n",
       "</table>\n",
       "</div>"
      ],
      "text/plain": [
       "                                            Title  \\\n",
       "2906                          Flavours of Romania   \n",
       "15406                                Breaking Bad   \n",
       "5873                                   Our Planet   \n",
       "3474                               The Last Dance   \n",
       "11425                              Rick and Morty   \n",
       "7170                                     Im Sorry   \n",
       "15389                  Avatar: The Last Airbender   \n",
       "6663                              Irmão do Jorel   \n",
       "5178                             Regiment Diaries   \n",
       "14872                                    Sherlock   \n",
       "1179   Leah Remini: Scientology and the Aftermath   \n",
       "10965                            Leyla and Mecnun   \n",
       "14066            Fullmetal Alchemist: Brotherhood   \n",
       "3185                                    My Mister   \n",
       "3156                         The World Between Us   \n",
       "\n",
       "                                                   Genre Series or Movie  \\\n",
       "2906                                         Documentary          Series   \n",
       "15406                             Crime, Drama, Thriller          Series   \n",
       "5873                                         Documentary          Series   \n",
       "3474              Documentary, Biography, History, Sport          Series   \n",
       "11425               Animation, Adventure, Comedy, Sci-Fi          Series   \n",
       "7170                                         Documentary          Series   \n",
       "15389  Animation, Action, Adventure, Family, Fantasy,...          Series   \n",
       "6663                           Animation, Comedy, Family          Series   \n",
       "5178                                         Documentary          Series   \n",
       "14872                    Crime, Drama, Mystery, Thriller          Series   \n",
       "1179                                         Documentary          Series   \n",
       "10965  Adventure, Comedy, Drama, Fantasy, Mystery, Ro...          Series   \n",
       "14066  Animation, Action, Adventure, Comedy, Drama, F...          Series   \n",
       "3185                                       Drama, Family          Series   \n",
       "3156                                        Crime, Drama          Series   \n",
       "\n",
       "       IMDb Score                                            Summary  \n",
       "2906          9.5  Crisscrossing eight historic regions of Romani...  \n",
       "15406         9.5  A terminally ill chemistry teacher teams with ...  \n",
       "5873          9.3  Experience our planets natural beauty and exam...  \n",
       "3474          9.2  This docuseries gives a definitive account of ...  \n",
       "11425         9.2  Brilliant but boozy scientist Rick hijacks his...  \n",
       "7170          9.2  Life is a series of awkward situations for com...  \n",
       "15389         9.2  Siblings Katara and Sokka wake young Aang from...  \n",
       "6663          9.1  This is the story of a curly-haired boy who ha...  \n",
       "5178          9.1  Historical footage and interviews with soldier...  \n",
       "14872         9.1  In this updated take on Arthur Conan Doyles be...  \n",
       "1179          9.1  Former Scientology members share detailed acco...  \n",
       "10965         9.1  Destiny brings Mecnun and Leyla together as ne...  \n",
       "14066         9.1  After both suffer physical damage -- brothers ...  \n",
       "3185          9.1  In a world that is less than kind, a young wom...  \n",
       "3156          9.1  A couple reckons with the aftermath of their s...  "
      ]
     },
     "execution_count": 40,
     "metadata": {},
     "output_type": "execute_result"
    }
   ],
   "source": [
    "series_df_imdb = series_df.dropna(subset=['IMDb Score'])\n",
    "series_df_imdb = series_df_imdb.sort_values(by = 'IMDb Score', ascending = False)\n",
    "top_s_imdb_15_df = pd.DataFrame(series_df_imdb[:15])\n",
    "top_s_imdb_15_df[['Title','Genre','Series or Movie','IMDb Score','Summary']]"
   ]
  },
  {
   "cell_type": "code",
   "execution_count": 39,
   "id": "eb6a8da5",
   "metadata": {},
   "outputs": [],
   "source": [
    "df_series_awr = series_df.dropna(subset=['Awards Received'])\n",
    "df_series_awr = df_series_awr.sort_values(by = 'Awards Received', ascending = False)\n",
    "top_m_awr_15_df = pd.DataFrame(movies_imdb_rt[:15])\n",
    "\n"
   ]
  },
  {
   "cell_type": "code",
   "execution_count": 41,
   "id": "ee2d6b82",
   "metadata": {},
   "outputs": [
    {
     "data": {
      "text/plain": [
       "'There is no overlap entry'"
      ]
     },
     "execution_count": 41,
     "metadata": {},
     "output_type": "execute_result"
    }
   ],
   "source": [
    "overlap_entry(top_s_imdb_15_df[\"Title\"], top_m_awr_15_df[\"Title\"])"
   ]
  },
  {
   "cell_type": "code",
   "execution_count": 57,
   "id": "ac86ea51",
   "metadata": {
    "scrolled": false
   },
   "outputs": [
    {
     "data": {
      "application/vnd.plotly.v1+json": {
       "config": {
        "plotlyServerURL": "https://plot.ly"
       },
       "data": [
        {
         "marker": {
          "color": [
           "DarkRed",
           "FireBrick",
           "FireBrick",
           "Red",
           "Crimson",
           "Crimson",
           "IndianRed",
           "slategray",
           "slategray",
           "gray"
          ]
         },
         "text": [
          "9.7",
          "9.5",
          "9.4",
          "9.3",
          "9.2",
          "9.2",
          "9.1",
          "9.1",
          "9.0",
          "9.0"
         ],
         "textposition": "outside",
         "texttemplate": "%{text:.2s}",
         "type": "bar",
         "x": [
          "No Festival",
          "Horsin Around",
          "The Dream House",
          "The Shawshank Redemption",
          "The Godfather",
          "Conspiracy",
          "The Consuls Son",
          "One Girl",
          "Green Gold",
          "David Attenborough: A Life on Our Planet"
         ],
         "y": [
          9.7,
          9.5,
          9.4,
          9.3,
          9.2,
          9.2,
          9.1,
          9.1,
          9,
          9
         ]
        }
       ],
       "layout": {
        "template": {
         "data": {
          "bar": [
           {
            "error_x": {
             "color": "#2a3f5f"
            },
            "error_y": {
             "color": "#2a3f5f"
            },
            "marker": {
             "line": {
              "color": "#E5ECF6",
              "width": 0.5
             },
             "pattern": {
              "fillmode": "overlay",
              "size": 10,
              "solidity": 0.2
             }
            },
            "type": "bar"
           }
          ],
          "barpolar": [
           {
            "marker": {
             "line": {
              "color": "#E5ECF6",
              "width": 0.5
             },
             "pattern": {
              "fillmode": "overlay",
              "size": 10,
              "solidity": 0.2
             }
            },
            "type": "barpolar"
           }
          ],
          "carpet": [
           {
            "aaxis": {
             "endlinecolor": "#2a3f5f",
             "gridcolor": "white",
             "linecolor": "white",
             "minorgridcolor": "white",
             "startlinecolor": "#2a3f5f"
            },
            "baxis": {
             "endlinecolor": "#2a3f5f",
             "gridcolor": "white",
             "linecolor": "white",
             "minorgridcolor": "white",
             "startlinecolor": "#2a3f5f"
            },
            "type": "carpet"
           }
          ],
          "choropleth": [
           {
            "colorbar": {
             "outlinewidth": 0,
             "ticks": ""
            },
            "type": "choropleth"
           }
          ],
          "contour": [
           {
            "colorbar": {
             "outlinewidth": 0,
             "ticks": ""
            },
            "colorscale": [
             [
              0,
              "#0d0887"
             ],
             [
              0.1111111111111111,
              "#46039f"
             ],
             [
              0.2222222222222222,
              "#7201a8"
             ],
             [
              0.3333333333333333,
              "#9c179e"
             ],
             [
              0.4444444444444444,
              "#bd3786"
             ],
             [
              0.5555555555555556,
              "#d8576b"
             ],
             [
              0.6666666666666666,
              "#ed7953"
             ],
             [
              0.7777777777777778,
              "#fb9f3a"
             ],
             [
              0.8888888888888888,
              "#fdca26"
             ],
             [
              1,
              "#f0f921"
             ]
            ],
            "type": "contour"
           }
          ],
          "contourcarpet": [
           {
            "colorbar": {
             "outlinewidth": 0,
             "ticks": ""
            },
            "type": "contourcarpet"
           }
          ],
          "heatmap": [
           {
            "colorbar": {
             "outlinewidth": 0,
             "ticks": ""
            },
            "colorscale": [
             [
              0,
              "#0d0887"
             ],
             [
              0.1111111111111111,
              "#46039f"
             ],
             [
              0.2222222222222222,
              "#7201a8"
             ],
             [
              0.3333333333333333,
              "#9c179e"
             ],
             [
              0.4444444444444444,
              "#bd3786"
             ],
             [
              0.5555555555555556,
              "#d8576b"
             ],
             [
              0.6666666666666666,
              "#ed7953"
             ],
             [
              0.7777777777777778,
              "#fb9f3a"
             ],
             [
              0.8888888888888888,
              "#fdca26"
             ],
             [
              1,
              "#f0f921"
             ]
            ],
            "type": "heatmap"
           }
          ],
          "heatmapgl": [
           {
            "colorbar": {
             "outlinewidth": 0,
             "ticks": ""
            },
            "colorscale": [
             [
              0,
              "#0d0887"
             ],
             [
              0.1111111111111111,
              "#46039f"
             ],
             [
              0.2222222222222222,
              "#7201a8"
             ],
             [
              0.3333333333333333,
              "#9c179e"
             ],
             [
              0.4444444444444444,
              "#bd3786"
             ],
             [
              0.5555555555555556,
              "#d8576b"
             ],
             [
              0.6666666666666666,
              "#ed7953"
             ],
             [
              0.7777777777777778,
              "#fb9f3a"
             ],
             [
              0.8888888888888888,
              "#fdca26"
             ],
             [
              1,
              "#f0f921"
             ]
            ],
            "type": "heatmapgl"
           }
          ],
          "histogram": [
           {
            "marker": {
             "pattern": {
              "fillmode": "overlay",
              "size": 10,
              "solidity": 0.2
             }
            },
            "type": "histogram"
           }
          ],
          "histogram2d": [
           {
            "colorbar": {
             "outlinewidth": 0,
             "ticks": ""
            },
            "colorscale": [
             [
              0,
              "#0d0887"
             ],
             [
              0.1111111111111111,
              "#46039f"
             ],
             [
              0.2222222222222222,
              "#7201a8"
             ],
             [
              0.3333333333333333,
              "#9c179e"
             ],
             [
              0.4444444444444444,
              "#bd3786"
             ],
             [
              0.5555555555555556,
              "#d8576b"
             ],
             [
              0.6666666666666666,
              "#ed7953"
             ],
             [
              0.7777777777777778,
              "#fb9f3a"
             ],
             [
              0.8888888888888888,
              "#fdca26"
             ],
             [
              1,
              "#f0f921"
             ]
            ],
            "type": "histogram2d"
           }
          ],
          "histogram2dcontour": [
           {
            "colorbar": {
             "outlinewidth": 0,
             "ticks": ""
            },
            "colorscale": [
             [
              0,
              "#0d0887"
             ],
             [
              0.1111111111111111,
              "#46039f"
             ],
             [
              0.2222222222222222,
              "#7201a8"
             ],
             [
              0.3333333333333333,
              "#9c179e"
             ],
             [
              0.4444444444444444,
              "#bd3786"
             ],
             [
              0.5555555555555556,
              "#d8576b"
             ],
             [
              0.6666666666666666,
              "#ed7953"
             ],
             [
              0.7777777777777778,
              "#fb9f3a"
             ],
             [
              0.8888888888888888,
              "#fdca26"
             ],
             [
              1,
              "#f0f921"
             ]
            ],
            "type": "histogram2dcontour"
           }
          ],
          "mesh3d": [
           {
            "colorbar": {
             "outlinewidth": 0,
             "ticks": ""
            },
            "type": "mesh3d"
           }
          ],
          "parcoords": [
           {
            "line": {
             "colorbar": {
              "outlinewidth": 0,
              "ticks": ""
             }
            },
            "type": "parcoords"
           }
          ],
          "pie": [
           {
            "automargin": true,
            "type": "pie"
           }
          ],
          "scatter": [
           {
            "marker": {
             "colorbar": {
              "outlinewidth": 0,
              "ticks": ""
             }
            },
            "type": "scatter"
           }
          ],
          "scatter3d": [
           {
            "line": {
             "colorbar": {
              "outlinewidth": 0,
              "ticks": ""
             }
            },
            "marker": {
             "colorbar": {
              "outlinewidth": 0,
              "ticks": ""
             }
            },
            "type": "scatter3d"
           }
          ],
          "scattercarpet": [
           {
            "marker": {
             "colorbar": {
              "outlinewidth": 0,
              "ticks": ""
             }
            },
            "type": "scattercarpet"
           }
          ],
          "scattergeo": [
           {
            "marker": {
             "colorbar": {
              "outlinewidth": 0,
              "ticks": ""
             }
            },
            "type": "scattergeo"
           }
          ],
          "scattergl": [
           {
            "marker": {
             "colorbar": {
              "outlinewidth": 0,
              "ticks": ""
             }
            },
            "type": "scattergl"
           }
          ],
          "scattermapbox": [
           {
            "marker": {
             "colorbar": {
              "outlinewidth": 0,
              "ticks": ""
             }
            },
            "type": "scattermapbox"
           }
          ],
          "scatterpolar": [
           {
            "marker": {
             "colorbar": {
              "outlinewidth": 0,
              "ticks": ""
             }
            },
            "type": "scatterpolar"
           }
          ],
          "scatterpolargl": [
           {
            "marker": {
             "colorbar": {
              "outlinewidth": 0,
              "ticks": ""
             }
            },
            "type": "scatterpolargl"
           }
          ],
          "scatterternary": [
           {
            "marker": {
             "colorbar": {
              "outlinewidth": 0,
              "ticks": ""
             }
            },
            "type": "scatterternary"
           }
          ],
          "surface": [
           {
            "colorbar": {
             "outlinewidth": 0,
             "ticks": ""
            },
            "colorscale": [
             [
              0,
              "#0d0887"
             ],
             [
              0.1111111111111111,
              "#46039f"
             ],
             [
              0.2222222222222222,
              "#7201a8"
             ],
             [
              0.3333333333333333,
              "#9c179e"
             ],
             [
              0.4444444444444444,
              "#bd3786"
             ],
             [
              0.5555555555555556,
              "#d8576b"
             ],
             [
              0.6666666666666666,
              "#ed7953"
             ],
             [
              0.7777777777777778,
              "#fb9f3a"
             ],
             [
              0.8888888888888888,
              "#fdca26"
             ],
             [
              1,
              "#f0f921"
             ]
            ],
            "type": "surface"
           }
          ],
          "table": [
           {
            "cells": {
             "fill": {
              "color": "#EBF0F8"
             },
             "line": {
              "color": "white"
             }
            },
            "header": {
             "fill": {
              "color": "#C8D4E3"
             },
             "line": {
              "color": "white"
             }
            },
            "type": "table"
           }
          ]
         },
         "layout": {
          "annotationdefaults": {
           "arrowcolor": "#2a3f5f",
           "arrowhead": 0,
           "arrowwidth": 1
          },
          "autotypenumbers": "strict",
          "coloraxis": {
           "colorbar": {
            "outlinewidth": 0,
            "ticks": ""
           }
          },
          "colorscale": {
           "diverging": [
            [
             0,
             "#8e0152"
            ],
            [
             0.1,
             "#c51b7d"
            ],
            [
             0.2,
             "#de77ae"
            ],
            [
             0.3,
             "#f1b6da"
            ],
            [
             0.4,
             "#fde0ef"
            ],
            [
             0.5,
             "#f7f7f7"
            ],
            [
             0.6,
             "#e6f5d0"
            ],
            [
             0.7,
             "#b8e186"
            ],
            [
             0.8,
             "#7fbc41"
            ],
            [
             0.9,
             "#4d9221"
            ],
            [
             1,
             "#276419"
            ]
           ],
           "sequential": [
            [
             0,
             "#0d0887"
            ],
            [
             0.1111111111111111,
             "#46039f"
            ],
            [
             0.2222222222222222,
             "#7201a8"
            ],
            [
             0.3333333333333333,
             "#9c179e"
            ],
            [
             0.4444444444444444,
             "#bd3786"
            ],
            [
             0.5555555555555556,
             "#d8576b"
            ],
            [
             0.6666666666666666,
             "#ed7953"
            ],
            [
             0.7777777777777778,
             "#fb9f3a"
            ],
            [
             0.8888888888888888,
             "#fdca26"
            ],
            [
             1,
             "#f0f921"
            ]
           ],
           "sequentialminus": [
            [
             0,
             "#0d0887"
            ],
            [
             0.1111111111111111,
             "#46039f"
            ],
            [
             0.2222222222222222,
             "#7201a8"
            ],
            [
             0.3333333333333333,
             "#9c179e"
            ],
            [
             0.4444444444444444,
             "#bd3786"
            ],
            [
             0.5555555555555556,
             "#d8576b"
            ],
            [
             0.6666666666666666,
             "#ed7953"
            ],
            [
             0.7777777777777778,
             "#fb9f3a"
            ],
            [
             0.8888888888888888,
             "#fdca26"
            ],
            [
             1,
             "#f0f921"
            ]
           ]
          },
          "colorway": [
           "#636efa",
           "#EF553B",
           "#00cc96",
           "#ab63fa",
           "#FFA15A",
           "#19d3f3",
           "#FF6692",
           "#B6E880",
           "#FF97FF",
           "#FECB52"
          ],
          "font": {
           "color": "#2a3f5f"
          },
          "geo": {
           "bgcolor": "white",
           "lakecolor": "white",
           "landcolor": "#E5ECF6",
           "showlakes": true,
           "showland": true,
           "subunitcolor": "white"
          },
          "hoverlabel": {
           "align": "left"
          },
          "hovermode": "closest",
          "mapbox": {
           "style": "light"
          },
          "paper_bgcolor": "white",
          "plot_bgcolor": "#E5ECF6",
          "polar": {
           "angularaxis": {
            "gridcolor": "white",
            "linecolor": "white",
            "ticks": ""
           },
           "bgcolor": "#E5ECF6",
           "radialaxis": {
            "gridcolor": "white",
            "linecolor": "white",
            "ticks": ""
           }
          },
          "scene": {
           "xaxis": {
            "backgroundcolor": "#E5ECF6",
            "gridcolor": "white",
            "gridwidth": 2,
            "linecolor": "white",
            "showbackground": true,
            "ticks": "",
            "zerolinecolor": "white"
           },
           "yaxis": {
            "backgroundcolor": "#E5ECF6",
            "gridcolor": "white",
            "gridwidth": 2,
            "linecolor": "white",
            "showbackground": true,
            "ticks": "",
            "zerolinecolor": "white"
           },
           "zaxis": {
            "backgroundcolor": "#E5ECF6",
            "gridcolor": "white",
            "gridwidth": 2,
            "linecolor": "white",
            "showbackground": true,
            "ticks": "",
            "zerolinecolor": "white"
           }
          },
          "shapedefaults": {
           "line": {
            "color": "#2a3f5f"
           }
          },
          "ternary": {
           "aaxis": {
            "gridcolor": "white",
            "linecolor": "white",
            "ticks": ""
           },
           "baxis": {
            "gridcolor": "white",
            "linecolor": "white",
            "ticks": ""
           },
           "bgcolor": "#E5ECF6",
           "caxis": {
            "gridcolor": "white",
            "linecolor": "white",
            "ticks": ""
           }
          },
          "title": {
           "x": 0.05
          },
          "xaxis": {
           "automargin": true,
           "gridcolor": "white",
           "linecolor": "white",
           "ticks": "",
           "title": {
            "standoff": 15
           },
           "zerolinecolor": "white",
           "zerolinewidth": 2
          },
          "yaxis": {
           "automargin": true,
           "gridcolor": "white",
           "linecolor": "white",
           "ticks": "",
           "title": {
            "standoff": 15
           },
           "zerolinecolor": "white",
           "zerolinewidth": 2
          }
         }
        },
        "title": {
         "text": "Which are the top 10 movies rated by the IMDb score?"
        },
        "uniformtext": {
         "minsize": 8,
         "mode": "hide"
        },
        "yaxis": {
         "title": {
          "font": {
           "size": 14
          },
          "text": "IMDb"
         }
        }
       }
      },
      "text/html": [
       "<div>                            <div id=\"5da14224-b3c1-4cb3-9151-5fdcf2dcf4a8\" class=\"plotly-graph-div\" style=\"height:525px; width:100%;\"></div>            <script type=\"text/javascript\">                require([\"plotly\"], function(Plotly) {                    window.PLOTLYENV=window.PLOTLYENV || {};                                    if (document.getElementById(\"5da14224-b3c1-4cb3-9151-5fdcf2dcf4a8\")) {                    Plotly.newPlot(                        \"5da14224-b3c1-4cb3-9151-5fdcf2dcf4a8\",                        [{\"marker\":{\"color\":[\"DarkRed\",\"FireBrick\",\"FireBrick\",\"Red\",\"Crimson\",\"Crimson\",\"IndianRed\",\"slategray\",\"slategray\",\"gray\"]},\"text\":[\"9.7\",\"9.5\",\"9.4\",\"9.3\",\"9.2\",\"9.2\",\"9.1\",\"9.1\",\"9.0\",\"9.0\"],\"textposition\":\"outside\",\"texttemplate\":\"%{text:.2s}\",\"type\":\"bar\",\"x\":[\"No Festival\",\"Horsin Around\",\"The Dream House\",\"The Shawshank Redemption\",\"The Godfather\",\"Conspiracy\",\"The Consuls Son\",\"One Girl\",\"Green Gold\",\"David Attenborough: A Life on Our Planet\"],\"y\":[9.7,9.5,9.4,9.3,9.2,9.2,9.1,9.1,9.0,9.0]}],                        {\"template\":{\"data\":{\"bar\":[{\"error_x\":{\"color\":\"#2a3f5f\"},\"error_y\":{\"color\":\"#2a3f5f\"},\"marker\":{\"line\":{\"color\":\"#E5ECF6\",\"width\":0.5},\"pattern\":{\"fillmode\":\"overlay\",\"size\":10,\"solidity\":0.2}},\"type\":\"bar\"}],\"barpolar\":[{\"marker\":{\"line\":{\"color\":\"#E5ECF6\",\"width\":0.5},\"pattern\":{\"fillmode\":\"overlay\",\"size\":10,\"solidity\":0.2}},\"type\":\"barpolar\"}],\"carpet\":[{\"aaxis\":{\"endlinecolor\":\"#2a3f5f\",\"gridcolor\":\"white\",\"linecolor\":\"white\",\"minorgridcolor\":\"white\",\"startlinecolor\":\"#2a3f5f\"},\"baxis\":{\"endlinecolor\":\"#2a3f5f\",\"gridcolor\":\"white\",\"linecolor\":\"white\",\"minorgridcolor\":\"white\",\"startlinecolor\":\"#2a3f5f\"},\"type\":\"carpet\"}],\"choropleth\":[{\"colorbar\":{\"outlinewidth\":0,\"ticks\":\"\"},\"type\":\"choropleth\"}],\"contour\":[{\"colorbar\":{\"outlinewidth\":0,\"ticks\":\"\"},\"colorscale\":[[0.0,\"#0d0887\"],[0.1111111111111111,\"#46039f\"],[0.2222222222222222,\"#7201a8\"],[0.3333333333333333,\"#9c179e\"],[0.4444444444444444,\"#bd3786\"],[0.5555555555555556,\"#d8576b\"],[0.6666666666666666,\"#ed7953\"],[0.7777777777777778,\"#fb9f3a\"],[0.8888888888888888,\"#fdca26\"],[1.0,\"#f0f921\"]],\"type\":\"contour\"}],\"contourcarpet\":[{\"colorbar\":{\"outlinewidth\":0,\"ticks\":\"\"},\"type\":\"contourcarpet\"}],\"heatmap\":[{\"colorbar\":{\"outlinewidth\":0,\"ticks\":\"\"},\"colorscale\":[[0.0,\"#0d0887\"],[0.1111111111111111,\"#46039f\"],[0.2222222222222222,\"#7201a8\"],[0.3333333333333333,\"#9c179e\"],[0.4444444444444444,\"#bd3786\"],[0.5555555555555556,\"#d8576b\"],[0.6666666666666666,\"#ed7953\"],[0.7777777777777778,\"#fb9f3a\"],[0.8888888888888888,\"#fdca26\"],[1.0,\"#f0f921\"]],\"type\":\"heatmap\"}],\"heatmapgl\":[{\"colorbar\":{\"outlinewidth\":0,\"ticks\":\"\"},\"colorscale\":[[0.0,\"#0d0887\"],[0.1111111111111111,\"#46039f\"],[0.2222222222222222,\"#7201a8\"],[0.3333333333333333,\"#9c179e\"],[0.4444444444444444,\"#bd3786\"],[0.5555555555555556,\"#d8576b\"],[0.6666666666666666,\"#ed7953\"],[0.7777777777777778,\"#fb9f3a\"],[0.8888888888888888,\"#fdca26\"],[1.0,\"#f0f921\"]],\"type\":\"heatmapgl\"}],\"histogram\":[{\"marker\":{\"pattern\":{\"fillmode\":\"overlay\",\"size\":10,\"solidity\":0.2}},\"type\":\"histogram\"}],\"histogram2d\":[{\"colorbar\":{\"outlinewidth\":0,\"ticks\":\"\"},\"colorscale\":[[0.0,\"#0d0887\"],[0.1111111111111111,\"#46039f\"],[0.2222222222222222,\"#7201a8\"],[0.3333333333333333,\"#9c179e\"],[0.4444444444444444,\"#bd3786\"],[0.5555555555555556,\"#d8576b\"],[0.6666666666666666,\"#ed7953\"],[0.7777777777777778,\"#fb9f3a\"],[0.8888888888888888,\"#fdca26\"],[1.0,\"#f0f921\"]],\"type\":\"histogram2d\"}],\"histogram2dcontour\":[{\"colorbar\":{\"outlinewidth\":0,\"ticks\":\"\"},\"colorscale\":[[0.0,\"#0d0887\"],[0.1111111111111111,\"#46039f\"],[0.2222222222222222,\"#7201a8\"],[0.3333333333333333,\"#9c179e\"],[0.4444444444444444,\"#bd3786\"],[0.5555555555555556,\"#d8576b\"],[0.6666666666666666,\"#ed7953\"],[0.7777777777777778,\"#fb9f3a\"],[0.8888888888888888,\"#fdca26\"],[1.0,\"#f0f921\"]],\"type\":\"histogram2dcontour\"}],\"mesh3d\":[{\"colorbar\":{\"outlinewidth\":0,\"ticks\":\"\"},\"type\":\"mesh3d\"}],\"parcoords\":[{\"line\":{\"colorbar\":{\"outlinewidth\":0,\"ticks\":\"\"}},\"type\":\"parcoords\"}],\"pie\":[{\"automargin\":true,\"type\":\"pie\"}],\"scatter\":[{\"marker\":{\"colorbar\":{\"outlinewidth\":0,\"ticks\":\"\"}},\"type\":\"scatter\"}],\"scatter3d\":[{\"line\":{\"colorbar\":{\"outlinewidth\":0,\"ticks\":\"\"}},\"marker\":{\"colorbar\":{\"outlinewidth\":0,\"ticks\":\"\"}},\"type\":\"scatter3d\"}],\"scattercarpet\":[{\"marker\":{\"colorbar\":{\"outlinewidth\":0,\"ticks\":\"\"}},\"type\":\"scattercarpet\"}],\"scattergeo\":[{\"marker\":{\"colorbar\":{\"outlinewidth\":0,\"ticks\":\"\"}},\"type\":\"scattergeo\"}],\"scattergl\":[{\"marker\":{\"colorbar\":{\"outlinewidth\":0,\"ticks\":\"\"}},\"type\":\"scattergl\"}],\"scattermapbox\":[{\"marker\":{\"colorbar\":{\"outlinewidth\":0,\"ticks\":\"\"}},\"type\":\"scattermapbox\"}],\"scatterpolar\":[{\"marker\":{\"colorbar\":{\"outlinewidth\":0,\"ticks\":\"\"}},\"type\":\"scatterpolar\"}],\"scatterpolargl\":[{\"marker\":{\"colorbar\":{\"outlinewidth\":0,\"ticks\":\"\"}},\"type\":\"scatterpolargl\"}],\"scatterternary\":[{\"marker\":{\"colorbar\":{\"outlinewidth\":0,\"ticks\":\"\"}},\"type\":\"scatterternary\"}],\"surface\":[{\"colorbar\":{\"outlinewidth\":0,\"ticks\":\"\"},\"colorscale\":[[0.0,\"#0d0887\"],[0.1111111111111111,\"#46039f\"],[0.2222222222222222,\"#7201a8\"],[0.3333333333333333,\"#9c179e\"],[0.4444444444444444,\"#bd3786\"],[0.5555555555555556,\"#d8576b\"],[0.6666666666666666,\"#ed7953\"],[0.7777777777777778,\"#fb9f3a\"],[0.8888888888888888,\"#fdca26\"],[1.0,\"#f0f921\"]],\"type\":\"surface\"}],\"table\":[{\"cells\":{\"fill\":{\"color\":\"#EBF0F8\"},\"line\":{\"color\":\"white\"}},\"header\":{\"fill\":{\"color\":\"#C8D4E3\"},\"line\":{\"color\":\"white\"}},\"type\":\"table\"}]},\"layout\":{\"annotationdefaults\":{\"arrowcolor\":\"#2a3f5f\",\"arrowhead\":0,\"arrowwidth\":1},\"autotypenumbers\":\"strict\",\"coloraxis\":{\"colorbar\":{\"outlinewidth\":0,\"ticks\":\"\"}},\"colorscale\":{\"diverging\":[[0,\"#8e0152\"],[0.1,\"#c51b7d\"],[0.2,\"#de77ae\"],[0.3,\"#f1b6da\"],[0.4,\"#fde0ef\"],[0.5,\"#f7f7f7\"],[0.6,\"#e6f5d0\"],[0.7,\"#b8e186\"],[0.8,\"#7fbc41\"],[0.9,\"#4d9221\"],[1,\"#276419\"]],\"sequential\":[[0.0,\"#0d0887\"],[0.1111111111111111,\"#46039f\"],[0.2222222222222222,\"#7201a8\"],[0.3333333333333333,\"#9c179e\"],[0.4444444444444444,\"#bd3786\"],[0.5555555555555556,\"#d8576b\"],[0.6666666666666666,\"#ed7953\"],[0.7777777777777778,\"#fb9f3a\"],[0.8888888888888888,\"#fdca26\"],[1.0,\"#f0f921\"]],\"sequentialminus\":[[0.0,\"#0d0887\"],[0.1111111111111111,\"#46039f\"],[0.2222222222222222,\"#7201a8\"],[0.3333333333333333,\"#9c179e\"],[0.4444444444444444,\"#bd3786\"],[0.5555555555555556,\"#d8576b\"],[0.6666666666666666,\"#ed7953\"],[0.7777777777777778,\"#fb9f3a\"],[0.8888888888888888,\"#fdca26\"],[1.0,\"#f0f921\"]]},\"colorway\":[\"#636efa\",\"#EF553B\",\"#00cc96\",\"#ab63fa\",\"#FFA15A\",\"#19d3f3\",\"#FF6692\",\"#B6E880\",\"#FF97FF\",\"#FECB52\"],\"font\":{\"color\":\"#2a3f5f\"},\"geo\":{\"bgcolor\":\"white\",\"lakecolor\":\"white\",\"landcolor\":\"#E5ECF6\",\"showlakes\":true,\"showland\":true,\"subunitcolor\":\"white\"},\"hoverlabel\":{\"align\":\"left\"},\"hovermode\":\"closest\",\"mapbox\":{\"style\":\"light\"},\"paper_bgcolor\":\"white\",\"plot_bgcolor\":\"#E5ECF6\",\"polar\":{\"angularaxis\":{\"gridcolor\":\"white\",\"linecolor\":\"white\",\"ticks\":\"\"},\"bgcolor\":\"#E5ECF6\",\"radialaxis\":{\"gridcolor\":\"white\",\"linecolor\":\"white\",\"ticks\":\"\"}},\"scene\":{\"xaxis\":{\"backgroundcolor\":\"#E5ECF6\",\"gridcolor\":\"white\",\"gridwidth\":2,\"linecolor\":\"white\",\"showbackground\":true,\"ticks\":\"\",\"zerolinecolor\":\"white\"},\"yaxis\":{\"backgroundcolor\":\"#E5ECF6\",\"gridcolor\":\"white\",\"gridwidth\":2,\"linecolor\":\"white\",\"showbackground\":true,\"ticks\":\"\",\"zerolinecolor\":\"white\"},\"zaxis\":{\"backgroundcolor\":\"#E5ECF6\",\"gridcolor\":\"white\",\"gridwidth\":2,\"linecolor\":\"white\",\"showbackground\":true,\"ticks\":\"\",\"zerolinecolor\":\"white\"}},\"shapedefaults\":{\"line\":{\"color\":\"#2a3f5f\"}},\"ternary\":{\"aaxis\":{\"gridcolor\":\"white\",\"linecolor\":\"white\",\"ticks\":\"\"},\"baxis\":{\"gridcolor\":\"white\",\"linecolor\":\"white\",\"ticks\":\"\"},\"bgcolor\":\"#E5ECF6\",\"caxis\":{\"gridcolor\":\"white\",\"linecolor\":\"white\",\"ticks\":\"\"}},\"title\":{\"x\":0.05},\"xaxis\":{\"automargin\":true,\"gridcolor\":\"white\",\"linecolor\":\"white\",\"ticks\":\"\",\"title\":{\"standoff\":15},\"zerolinecolor\":\"white\",\"zerolinewidth\":2},\"yaxis\":{\"automargin\":true,\"gridcolor\":\"white\",\"linecolor\":\"white\",\"ticks\":\"\",\"title\":{\"standoff\":15},\"zerolinecolor\":\"white\",\"zerolinewidth\":2}}},\"title\":{\"text\":\"Which are the top 10 movies rated by the IMDb score?\"},\"uniformtext\":{\"minsize\":8,\"mode\":\"hide\"},\"yaxis\":{\"title\":{\"font\":{\"size\":14},\"text\":\"IMDb\"}}},                        {\"responsive\": true}                    ).then(function(){\n",
       "                            \n",
       "var gd = document.getElementById('5da14224-b3c1-4cb3-9151-5fdcf2dcf4a8');\n",
       "var x = new MutationObserver(function (mutations, observer) {{\n",
       "        var display = window.getComputedStyle(gd).display;\n",
       "        if (!display || display === 'none') {{\n",
       "            console.log([gd, 'removed!']);\n",
       "            Plotly.purge(gd);\n",
       "            observer.disconnect();\n",
       "        }}\n",
       "}});\n",
       "\n",
       "// Listen for the removal of the full notebook cells\n",
       "var notebookContainer = gd.closest('#notebook-container');\n",
       "if (notebookContainer) {{\n",
       "    x.observe(notebookContainer, {childList: true});\n",
       "}}\n",
       "\n",
       "// Listen for the clearing of the current output cell\n",
       "var outputEl = gd.closest('.output');\n",
       "if (outputEl) {{\n",
       "    x.observe(outputEl, {childList: true});\n",
       "}}\n",
       "\n",
       "                        })                };                });            </script>        </div>"
      ]
     },
     "metadata": {},
     "output_type": "display_data"
    }
   ],
   "source": [
    "top_m_imdb_10_list = movies_imdb_rt[:10]\n",
    "colors_10 = ['DarkRed', 'FireBrick', 'FireBrick' ,'Red', 'Crimson', 'Crimson', 'IndianRed' , 'slategray', 'slategray' , 'gray' ]\n",
    "fig = go.Figure(data=[go.Bar(\n",
    "    x = top_m_imdb_10_list['Title'],\n",
    "    y = top_m_imdb_10_list['IMDb Score'],\n",
    "    text = top_m_imdb_10_list['IMDb Score'],\n",
    "    textposition='auto',\n",
    "    marker_color=colors_10 \n",
    ")])\n",
    "fig.update_traces(texttemplate='%{text:.2s}', textposition='outside')\n",
    "fig.update_layout(title_text= 'Which are the top 10 movies rated by the IMDb score?',\n",
    "                  uniformtext_minsize=8, uniformtext_mode='hide',\n",
    "                  yaxis=dict(\n",
    "                  title='IMDb',\n",
    "                  titlefont_size=14),\n",
    "                  xaxis=dict(\n",
    "                  ))"
   ]
  },
  {
   "cell_type": "code",
   "execution_count": 43,
   "id": "84eddc53",
   "metadata": {},
   "outputs": [],
   "source": [
    "genre_s_df = series_df.dropna(subset=['Genre'])"
   ]
  },
  {
   "cell_type": "code",
   "execution_count": 44,
   "id": "2d41f0ed",
   "metadata": {},
   "outputs": [],
   "source": [
    "series_gen_list = genre_s_df.Genre.str.split(',')\n",
    "s_gen_list = {}\n",
    "for genres in series_gen_list: \n",
    "    for genre in genres: \n",
    "        if (genre in s_gen_list): \n",
    "            s_gen_list[genre]+=1 \n",
    "        else: \n",
    "            s_gen_list[genre]=1 \n",
    "s_gen_df = pd.DataFrame(s_gen_list.values(),index = s_gen_list.keys(),\n",
    "                        columns = {'Counts of Genres in Tv Series'}) \n",
    "s_gen_df.sort_values(by = 'Counts of Genres in Tv Series',ascending = False,inplace = True) #Sort the dataframe in ascending order\n",
    "top_10_s_gen = s_gen_df[0:10] "
   ]
  },
  {
   "cell_type": "code",
   "execution_count": 48,
   "id": "1e792c05",
   "metadata": {},
   "outputs": [
    {
     "data": {
      "text/html": [
       "<div>\n",
       "<style scoped>\n",
       "    .dataframe tbody tr th:only-of-type {\n",
       "        vertical-align: middle;\n",
       "    }\n",
       "\n",
       "    .dataframe tbody tr th {\n",
       "        vertical-align: top;\n",
       "    }\n",
       "\n",
       "    .dataframe thead th {\n",
       "        text-align: right;\n",
       "    }\n",
       "</style>\n",
       "<table border=\"1\" class=\"dataframe\">\n",
       "  <thead>\n",
       "    <tr style=\"text-align: right;\">\n",
       "      <th></th>\n",
       "      <th>Counts of Genres in Tv Series</th>\n",
       "    </tr>\n",
       "  </thead>\n",
       "  <tbody>\n",
       "    <tr>\n",
       "      <th>Drama</th>\n",
       "      <td>869</td>\n",
       "    </tr>\n",
       "    <tr>\n",
       "      <th>Animation</th>\n",
       "      <td>869</td>\n",
       "    </tr>\n",
       "    <tr>\n",
       "      <th>Comedy</th>\n",
       "      <td>593</td>\n",
       "    </tr>\n",
       "    <tr>\n",
       "      <th>Drama</th>\n",
       "      <td>531</td>\n",
       "    </tr>\n",
       "    <tr>\n",
       "      <th>Comedy</th>\n",
       "      <td>517</td>\n",
       "    </tr>\n",
       "    <tr>\n",
       "      <th>Romance</th>\n",
       "      <td>516</td>\n",
       "    </tr>\n",
       "    <tr>\n",
       "      <th>Fantasy</th>\n",
       "      <td>514</td>\n",
       "    </tr>\n",
       "    <tr>\n",
       "      <th>Thriller</th>\n",
       "      <td>412</td>\n",
       "    </tr>\n",
       "    <tr>\n",
       "      <th>Adventure</th>\n",
       "      <td>377</td>\n",
       "    </tr>\n",
       "    <tr>\n",
       "      <th>Family</th>\n",
       "      <td>365</td>\n",
       "    </tr>\n",
       "  </tbody>\n",
       "</table>\n",
       "</div>"
      ],
      "text/plain": [
       "            Counts of Genres in Tv Series\n",
       " Drama                                869\n",
       "Animation                             869\n",
       "Comedy                                593\n",
       "Drama                                 531\n",
       " Comedy                               517\n",
       " Romance                              516\n",
       " Fantasy                              514\n",
       " Thriller                             412\n",
       " Adventure                            377\n",
       " Family                               365"
      ]
     },
     "execution_count": 48,
     "metadata": {},
     "output_type": "execute_result"
    }
   ],
   "source": [
    "top_10_s_gen"
   ]
  },
  {
   "cell_type": "code",
   "execution_count": 45,
   "id": "c2596091",
   "metadata": {},
   "outputs": [
    {
     "data": {
      "application/vnd.plotly.v1+json": {
       "config": {
        "plotlyServerURL": "https://plot.ly"
       },
       "data": [
        {
         "marker": {
          "color": [
           "DarkRed",
           "FireBrick",
           "FireBrick",
           "Red",
           "Crimson",
           "Crimson",
           "IndianRed",
           "slategray",
           "slategray",
           "gray"
          ]
         },
         "text": [
          "869",
          "869",
          "593",
          "531",
          "517",
          "516",
          "514",
          "412",
          "377",
          "365"
         ],
         "textposition": "outside",
         "texttemplate": "%{text:.2s}",
         "type": "bar",
         "x": [
          " Drama",
          "Animation",
          "Comedy",
          "Drama",
          " Comedy",
          " Romance",
          " Fantasy",
          " Thriller",
          " Adventure",
          " Family"
         ],
         "y": [
          869,
          869,
          593,
          531,
          517,
          516,
          514,
          412,
          377,
          365
         ]
        }
       ],
       "layout": {
        "template": {
         "data": {
          "bar": [
           {
            "error_x": {
             "color": "#2a3f5f"
            },
            "error_y": {
             "color": "#2a3f5f"
            },
            "marker": {
             "line": {
              "color": "#E5ECF6",
              "width": 0.5
             },
             "pattern": {
              "fillmode": "overlay",
              "size": 10,
              "solidity": 0.2
             }
            },
            "type": "bar"
           }
          ],
          "barpolar": [
           {
            "marker": {
             "line": {
              "color": "#E5ECF6",
              "width": 0.5
             },
             "pattern": {
              "fillmode": "overlay",
              "size": 10,
              "solidity": 0.2
             }
            },
            "type": "barpolar"
           }
          ],
          "carpet": [
           {
            "aaxis": {
             "endlinecolor": "#2a3f5f",
             "gridcolor": "white",
             "linecolor": "white",
             "minorgridcolor": "white",
             "startlinecolor": "#2a3f5f"
            },
            "baxis": {
             "endlinecolor": "#2a3f5f",
             "gridcolor": "white",
             "linecolor": "white",
             "minorgridcolor": "white",
             "startlinecolor": "#2a3f5f"
            },
            "type": "carpet"
           }
          ],
          "choropleth": [
           {
            "colorbar": {
             "outlinewidth": 0,
             "ticks": ""
            },
            "type": "choropleth"
           }
          ],
          "contour": [
           {
            "colorbar": {
             "outlinewidth": 0,
             "ticks": ""
            },
            "colorscale": [
             [
              0,
              "#0d0887"
             ],
             [
              0.1111111111111111,
              "#46039f"
             ],
             [
              0.2222222222222222,
              "#7201a8"
             ],
             [
              0.3333333333333333,
              "#9c179e"
             ],
             [
              0.4444444444444444,
              "#bd3786"
             ],
             [
              0.5555555555555556,
              "#d8576b"
             ],
             [
              0.6666666666666666,
              "#ed7953"
             ],
             [
              0.7777777777777778,
              "#fb9f3a"
             ],
             [
              0.8888888888888888,
              "#fdca26"
             ],
             [
              1,
              "#f0f921"
             ]
            ],
            "type": "contour"
           }
          ],
          "contourcarpet": [
           {
            "colorbar": {
             "outlinewidth": 0,
             "ticks": ""
            },
            "type": "contourcarpet"
           }
          ],
          "heatmap": [
           {
            "colorbar": {
             "outlinewidth": 0,
             "ticks": ""
            },
            "colorscale": [
             [
              0,
              "#0d0887"
             ],
             [
              0.1111111111111111,
              "#46039f"
             ],
             [
              0.2222222222222222,
              "#7201a8"
             ],
             [
              0.3333333333333333,
              "#9c179e"
             ],
             [
              0.4444444444444444,
              "#bd3786"
             ],
             [
              0.5555555555555556,
              "#d8576b"
             ],
             [
              0.6666666666666666,
              "#ed7953"
             ],
             [
              0.7777777777777778,
              "#fb9f3a"
             ],
             [
              0.8888888888888888,
              "#fdca26"
             ],
             [
              1,
              "#f0f921"
             ]
            ],
            "type": "heatmap"
           }
          ],
          "heatmapgl": [
           {
            "colorbar": {
             "outlinewidth": 0,
             "ticks": ""
            },
            "colorscale": [
             [
              0,
              "#0d0887"
             ],
             [
              0.1111111111111111,
              "#46039f"
             ],
             [
              0.2222222222222222,
              "#7201a8"
             ],
             [
              0.3333333333333333,
              "#9c179e"
             ],
             [
              0.4444444444444444,
              "#bd3786"
             ],
             [
              0.5555555555555556,
              "#d8576b"
             ],
             [
              0.6666666666666666,
              "#ed7953"
             ],
             [
              0.7777777777777778,
              "#fb9f3a"
             ],
             [
              0.8888888888888888,
              "#fdca26"
             ],
             [
              1,
              "#f0f921"
             ]
            ],
            "type": "heatmapgl"
           }
          ],
          "histogram": [
           {
            "marker": {
             "pattern": {
              "fillmode": "overlay",
              "size": 10,
              "solidity": 0.2
             }
            },
            "type": "histogram"
           }
          ],
          "histogram2d": [
           {
            "colorbar": {
             "outlinewidth": 0,
             "ticks": ""
            },
            "colorscale": [
             [
              0,
              "#0d0887"
             ],
             [
              0.1111111111111111,
              "#46039f"
             ],
             [
              0.2222222222222222,
              "#7201a8"
             ],
             [
              0.3333333333333333,
              "#9c179e"
             ],
             [
              0.4444444444444444,
              "#bd3786"
             ],
             [
              0.5555555555555556,
              "#d8576b"
             ],
             [
              0.6666666666666666,
              "#ed7953"
             ],
             [
              0.7777777777777778,
              "#fb9f3a"
             ],
             [
              0.8888888888888888,
              "#fdca26"
             ],
             [
              1,
              "#f0f921"
             ]
            ],
            "type": "histogram2d"
           }
          ],
          "histogram2dcontour": [
           {
            "colorbar": {
             "outlinewidth": 0,
             "ticks": ""
            },
            "colorscale": [
             [
              0,
              "#0d0887"
             ],
             [
              0.1111111111111111,
              "#46039f"
             ],
             [
              0.2222222222222222,
              "#7201a8"
             ],
             [
              0.3333333333333333,
              "#9c179e"
             ],
             [
              0.4444444444444444,
              "#bd3786"
             ],
             [
              0.5555555555555556,
              "#d8576b"
             ],
             [
              0.6666666666666666,
              "#ed7953"
             ],
             [
              0.7777777777777778,
              "#fb9f3a"
             ],
             [
              0.8888888888888888,
              "#fdca26"
             ],
             [
              1,
              "#f0f921"
             ]
            ],
            "type": "histogram2dcontour"
           }
          ],
          "mesh3d": [
           {
            "colorbar": {
             "outlinewidth": 0,
             "ticks": ""
            },
            "type": "mesh3d"
           }
          ],
          "parcoords": [
           {
            "line": {
             "colorbar": {
              "outlinewidth": 0,
              "ticks": ""
             }
            },
            "type": "parcoords"
           }
          ],
          "pie": [
           {
            "automargin": true,
            "type": "pie"
           }
          ],
          "scatter": [
           {
            "marker": {
             "colorbar": {
              "outlinewidth": 0,
              "ticks": ""
             }
            },
            "type": "scatter"
           }
          ],
          "scatter3d": [
           {
            "line": {
             "colorbar": {
              "outlinewidth": 0,
              "ticks": ""
             }
            },
            "marker": {
             "colorbar": {
              "outlinewidth": 0,
              "ticks": ""
             }
            },
            "type": "scatter3d"
           }
          ],
          "scattercarpet": [
           {
            "marker": {
             "colorbar": {
              "outlinewidth": 0,
              "ticks": ""
             }
            },
            "type": "scattercarpet"
           }
          ],
          "scattergeo": [
           {
            "marker": {
             "colorbar": {
              "outlinewidth": 0,
              "ticks": ""
             }
            },
            "type": "scattergeo"
           }
          ],
          "scattergl": [
           {
            "marker": {
             "colorbar": {
              "outlinewidth": 0,
              "ticks": ""
             }
            },
            "type": "scattergl"
           }
          ],
          "scattermapbox": [
           {
            "marker": {
             "colorbar": {
              "outlinewidth": 0,
              "ticks": ""
             }
            },
            "type": "scattermapbox"
           }
          ],
          "scatterpolar": [
           {
            "marker": {
             "colorbar": {
              "outlinewidth": 0,
              "ticks": ""
             }
            },
            "type": "scatterpolar"
           }
          ],
          "scatterpolargl": [
           {
            "marker": {
             "colorbar": {
              "outlinewidth": 0,
              "ticks": ""
             }
            },
            "type": "scatterpolargl"
           }
          ],
          "scatterternary": [
           {
            "marker": {
             "colorbar": {
              "outlinewidth": 0,
              "ticks": ""
             }
            },
            "type": "scatterternary"
           }
          ],
          "surface": [
           {
            "colorbar": {
             "outlinewidth": 0,
             "ticks": ""
            },
            "colorscale": [
             [
              0,
              "#0d0887"
             ],
             [
              0.1111111111111111,
              "#46039f"
             ],
             [
              0.2222222222222222,
              "#7201a8"
             ],
             [
              0.3333333333333333,
              "#9c179e"
             ],
             [
              0.4444444444444444,
              "#bd3786"
             ],
             [
              0.5555555555555556,
              "#d8576b"
             ],
             [
              0.6666666666666666,
              "#ed7953"
             ],
             [
              0.7777777777777778,
              "#fb9f3a"
             ],
             [
              0.8888888888888888,
              "#fdca26"
             ],
             [
              1,
              "#f0f921"
             ]
            ],
            "type": "surface"
           }
          ],
          "table": [
           {
            "cells": {
             "fill": {
              "color": "#EBF0F8"
             },
             "line": {
              "color": "white"
             }
            },
            "header": {
             "fill": {
              "color": "#C8D4E3"
             },
             "line": {
              "color": "white"
             }
            },
            "type": "table"
           }
          ]
         },
         "layout": {
          "annotationdefaults": {
           "arrowcolor": "#2a3f5f",
           "arrowhead": 0,
           "arrowwidth": 1
          },
          "autotypenumbers": "strict",
          "coloraxis": {
           "colorbar": {
            "outlinewidth": 0,
            "ticks": ""
           }
          },
          "colorscale": {
           "diverging": [
            [
             0,
             "#8e0152"
            ],
            [
             0.1,
             "#c51b7d"
            ],
            [
             0.2,
             "#de77ae"
            ],
            [
             0.3,
             "#f1b6da"
            ],
            [
             0.4,
             "#fde0ef"
            ],
            [
             0.5,
             "#f7f7f7"
            ],
            [
             0.6,
             "#e6f5d0"
            ],
            [
             0.7,
             "#b8e186"
            ],
            [
             0.8,
             "#7fbc41"
            ],
            [
             0.9,
             "#4d9221"
            ],
            [
             1,
             "#276419"
            ]
           ],
           "sequential": [
            [
             0,
             "#0d0887"
            ],
            [
             0.1111111111111111,
             "#46039f"
            ],
            [
             0.2222222222222222,
             "#7201a8"
            ],
            [
             0.3333333333333333,
             "#9c179e"
            ],
            [
             0.4444444444444444,
             "#bd3786"
            ],
            [
             0.5555555555555556,
             "#d8576b"
            ],
            [
             0.6666666666666666,
             "#ed7953"
            ],
            [
             0.7777777777777778,
             "#fb9f3a"
            ],
            [
             0.8888888888888888,
             "#fdca26"
            ],
            [
             1,
             "#f0f921"
            ]
           ],
           "sequentialminus": [
            [
             0,
             "#0d0887"
            ],
            [
             0.1111111111111111,
             "#46039f"
            ],
            [
             0.2222222222222222,
             "#7201a8"
            ],
            [
             0.3333333333333333,
             "#9c179e"
            ],
            [
             0.4444444444444444,
             "#bd3786"
            ],
            [
             0.5555555555555556,
             "#d8576b"
            ],
            [
             0.6666666666666666,
             "#ed7953"
            ],
            [
             0.7777777777777778,
             "#fb9f3a"
            ],
            [
             0.8888888888888888,
             "#fdca26"
            ],
            [
             1,
             "#f0f921"
            ]
           ]
          },
          "colorway": [
           "#636efa",
           "#EF553B",
           "#00cc96",
           "#ab63fa",
           "#FFA15A",
           "#19d3f3",
           "#FF6692",
           "#B6E880",
           "#FF97FF",
           "#FECB52"
          ],
          "font": {
           "color": "#2a3f5f"
          },
          "geo": {
           "bgcolor": "white",
           "lakecolor": "white",
           "landcolor": "#E5ECF6",
           "showlakes": true,
           "showland": true,
           "subunitcolor": "white"
          },
          "hoverlabel": {
           "align": "left"
          },
          "hovermode": "closest",
          "mapbox": {
           "style": "light"
          },
          "paper_bgcolor": "white",
          "plot_bgcolor": "#E5ECF6",
          "polar": {
           "angularaxis": {
            "gridcolor": "white",
            "linecolor": "white",
            "ticks": ""
           },
           "bgcolor": "#E5ECF6",
           "radialaxis": {
            "gridcolor": "white",
            "linecolor": "white",
            "ticks": ""
           }
          },
          "scene": {
           "xaxis": {
            "backgroundcolor": "#E5ECF6",
            "gridcolor": "white",
            "gridwidth": 2,
            "linecolor": "white",
            "showbackground": true,
            "ticks": "",
            "zerolinecolor": "white"
           },
           "yaxis": {
            "backgroundcolor": "#E5ECF6",
            "gridcolor": "white",
            "gridwidth": 2,
            "linecolor": "white",
            "showbackground": true,
            "ticks": "",
            "zerolinecolor": "white"
           },
           "zaxis": {
            "backgroundcolor": "#E5ECF6",
            "gridcolor": "white",
            "gridwidth": 2,
            "linecolor": "white",
            "showbackground": true,
            "ticks": "",
            "zerolinecolor": "white"
           }
          },
          "shapedefaults": {
           "line": {
            "color": "#2a3f5f"
           }
          },
          "ternary": {
           "aaxis": {
            "gridcolor": "white",
            "linecolor": "white",
            "ticks": ""
           },
           "baxis": {
            "gridcolor": "white",
            "linecolor": "white",
            "ticks": ""
           },
           "bgcolor": "#E5ECF6",
           "caxis": {
            "gridcolor": "white",
            "linecolor": "white",
            "ticks": ""
           }
          },
          "title": {
           "x": 0.05
          },
          "xaxis": {
           "automargin": true,
           "gridcolor": "white",
           "linecolor": "white",
           "ticks": "",
           "title": {
            "standoff": 15
           },
           "zerolinecolor": "white",
           "zerolinewidth": 2
          },
          "yaxis": {
           "automargin": true,
           "gridcolor": "white",
           "linecolor": "white",
           "ticks": "",
           "title": {
            "standoff": 15
           },
           "zerolinecolor": "white",
           "zerolinewidth": 2
          }
         }
        },
        "title": {
         "text": "Which are the most popular genres in Tv Series?"
        },
        "uniformtext": {
         "minsize": 8,
         "mode": "hide"
        },
        "xaxis": {
         "title": {
          "font": {
           "size": 14
          },
          "text": "Genres"
         }
        },
        "yaxis": {
         "title": {
          "font": {
           "size": 14
          },
          "text": "Quantity"
         }
        }
       }
      },
      "text/html": [
       "<div>                            <div id=\"a60645ff-e379-4222-9246-e373eb4059db\" class=\"plotly-graph-div\" style=\"height:525px; width:100%;\"></div>            <script type=\"text/javascript\">                require([\"plotly\"], function(Plotly) {                    window.PLOTLYENV=window.PLOTLYENV || {};                                    if (document.getElementById(\"a60645ff-e379-4222-9246-e373eb4059db\")) {                    Plotly.newPlot(                        \"a60645ff-e379-4222-9246-e373eb4059db\",                        [{\"marker\":{\"color\":[\"DarkRed\",\"FireBrick\",\"FireBrick\",\"Red\",\"Crimson\",\"Crimson\",\"IndianRed\",\"slategray\",\"slategray\",\"gray\"]},\"text\":[\"869\",\"869\",\"593\",\"531\",\"517\",\"516\",\"514\",\"412\",\"377\",\"365\"],\"textposition\":\"outside\",\"texttemplate\":\"%{text:.2s}\",\"type\":\"bar\",\"x\":[\" Drama\",\"Animation\",\"Comedy\",\"Drama\",\" Comedy\",\" Romance\",\" Fantasy\",\" Thriller\",\" Adventure\",\" Family\"],\"y\":[869,869,593,531,517,516,514,412,377,365]}],                        {\"template\":{\"data\":{\"bar\":[{\"error_x\":{\"color\":\"#2a3f5f\"},\"error_y\":{\"color\":\"#2a3f5f\"},\"marker\":{\"line\":{\"color\":\"#E5ECF6\",\"width\":0.5},\"pattern\":{\"fillmode\":\"overlay\",\"size\":10,\"solidity\":0.2}},\"type\":\"bar\"}],\"barpolar\":[{\"marker\":{\"line\":{\"color\":\"#E5ECF6\",\"width\":0.5},\"pattern\":{\"fillmode\":\"overlay\",\"size\":10,\"solidity\":0.2}},\"type\":\"barpolar\"}],\"carpet\":[{\"aaxis\":{\"endlinecolor\":\"#2a3f5f\",\"gridcolor\":\"white\",\"linecolor\":\"white\",\"minorgridcolor\":\"white\",\"startlinecolor\":\"#2a3f5f\"},\"baxis\":{\"endlinecolor\":\"#2a3f5f\",\"gridcolor\":\"white\",\"linecolor\":\"white\",\"minorgridcolor\":\"white\",\"startlinecolor\":\"#2a3f5f\"},\"type\":\"carpet\"}],\"choropleth\":[{\"colorbar\":{\"outlinewidth\":0,\"ticks\":\"\"},\"type\":\"choropleth\"}],\"contour\":[{\"colorbar\":{\"outlinewidth\":0,\"ticks\":\"\"},\"colorscale\":[[0.0,\"#0d0887\"],[0.1111111111111111,\"#46039f\"],[0.2222222222222222,\"#7201a8\"],[0.3333333333333333,\"#9c179e\"],[0.4444444444444444,\"#bd3786\"],[0.5555555555555556,\"#d8576b\"],[0.6666666666666666,\"#ed7953\"],[0.7777777777777778,\"#fb9f3a\"],[0.8888888888888888,\"#fdca26\"],[1.0,\"#f0f921\"]],\"type\":\"contour\"}],\"contourcarpet\":[{\"colorbar\":{\"outlinewidth\":0,\"ticks\":\"\"},\"type\":\"contourcarpet\"}],\"heatmap\":[{\"colorbar\":{\"outlinewidth\":0,\"ticks\":\"\"},\"colorscale\":[[0.0,\"#0d0887\"],[0.1111111111111111,\"#46039f\"],[0.2222222222222222,\"#7201a8\"],[0.3333333333333333,\"#9c179e\"],[0.4444444444444444,\"#bd3786\"],[0.5555555555555556,\"#d8576b\"],[0.6666666666666666,\"#ed7953\"],[0.7777777777777778,\"#fb9f3a\"],[0.8888888888888888,\"#fdca26\"],[1.0,\"#f0f921\"]],\"type\":\"heatmap\"}],\"heatmapgl\":[{\"colorbar\":{\"outlinewidth\":0,\"ticks\":\"\"},\"colorscale\":[[0.0,\"#0d0887\"],[0.1111111111111111,\"#46039f\"],[0.2222222222222222,\"#7201a8\"],[0.3333333333333333,\"#9c179e\"],[0.4444444444444444,\"#bd3786\"],[0.5555555555555556,\"#d8576b\"],[0.6666666666666666,\"#ed7953\"],[0.7777777777777778,\"#fb9f3a\"],[0.8888888888888888,\"#fdca26\"],[1.0,\"#f0f921\"]],\"type\":\"heatmapgl\"}],\"histogram\":[{\"marker\":{\"pattern\":{\"fillmode\":\"overlay\",\"size\":10,\"solidity\":0.2}},\"type\":\"histogram\"}],\"histogram2d\":[{\"colorbar\":{\"outlinewidth\":0,\"ticks\":\"\"},\"colorscale\":[[0.0,\"#0d0887\"],[0.1111111111111111,\"#46039f\"],[0.2222222222222222,\"#7201a8\"],[0.3333333333333333,\"#9c179e\"],[0.4444444444444444,\"#bd3786\"],[0.5555555555555556,\"#d8576b\"],[0.6666666666666666,\"#ed7953\"],[0.7777777777777778,\"#fb9f3a\"],[0.8888888888888888,\"#fdca26\"],[1.0,\"#f0f921\"]],\"type\":\"histogram2d\"}],\"histogram2dcontour\":[{\"colorbar\":{\"outlinewidth\":0,\"ticks\":\"\"},\"colorscale\":[[0.0,\"#0d0887\"],[0.1111111111111111,\"#46039f\"],[0.2222222222222222,\"#7201a8\"],[0.3333333333333333,\"#9c179e\"],[0.4444444444444444,\"#bd3786\"],[0.5555555555555556,\"#d8576b\"],[0.6666666666666666,\"#ed7953\"],[0.7777777777777778,\"#fb9f3a\"],[0.8888888888888888,\"#fdca26\"],[1.0,\"#f0f921\"]],\"type\":\"histogram2dcontour\"}],\"mesh3d\":[{\"colorbar\":{\"outlinewidth\":0,\"ticks\":\"\"},\"type\":\"mesh3d\"}],\"parcoords\":[{\"line\":{\"colorbar\":{\"outlinewidth\":0,\"ticks\":\"\"}},\"type\":\"parcoords\"}],\"pie\":[{\"automargin\":true,\"type\":\"pie\"}],\"scatter\":[{\"marker\":{\"colorbar\":{\"outlinewidth\":0,\"ticks\":\"\"}},\"type\":\"scatter\"}],\"scatter3d\":[{\"line\":{\"colorbar\":{\"outlinewidth\":0,\"ticks\":\"\"}},\"marker\":{\"colorbar\":{\"outlinewidth\":0,\"ticks\":\"\"}},\"type\":\"scatter3d\"}],\"scattercarpet\":[{\"marker\":{\"colorbar\":{\"outlinewidth\":0,\"ticks\":\"\"}},\"type\":\"scattercarpet\"}],\"scattergeo\":[{\"marker\":{\"colorbar\":{\"outlinewidth\":0,\"ticks\":\"\"}},\"type\":\"scattergeo\"}],\"scattergl\":[{\"marker\":{\"colorbar\":{\"outlinewidth\":0,\"ticks\":\"\"}},\"type\":\"scattergl\"}],\"scattermapbox\":[{\"marker\":{\"colorbar\":{\"outlinewidth\":0,\"ticks\":\"\"}},\"type\":\"scattermapbox\"}],\"scatterpolar\":[{\"marker\":{\"colorbar\":{\"outlinewidth\":0,\"ticks\":\"\"}},\"type\":\"scatterpolar\"}],\"scatterpolargl\":[{\"marker\":{\"colorbar\":{\"outlinewidth\":0,\"ticks\":\"\"}},\"type\":\"scatterpolargl\"}],\"scatterternary\":[{\"marker\":{\"colorbar\":{\"outlinewidth\":0,\"ticks\":\"\"}},\"type\":\"scatterternary\"}],\"surface\":[{\"colorbar\":{\"outlinewidth\":0,\"ticks\":\"\"},\"colorscale\":[[0.0,\"#0d0887\"],[0.1111111111111111,\"#46039f\"],[0.2222222222222222,\"#7201a8\"],[0.3333333333333333,\"#9c179e\"],[0.4444444444444444,\"#bd3786\"],[0.5555555555555556,\"#d8576b\"],[0.6666666666666666,\"#ed7953\"],[0.7777777777777778,\"#fb9f3a\"],[0.8888888888888888,\"#fdca26\"],[1.0,\"#f0f921\"]],\"type\":\"surface\"}],\"table\":[{\"cells\":{\"fill\":{\"color\":\"#EBF0F8\"},\"line\":{\"color\":\"white\"}},\"header\":{\"fill\":{\"color\":\"#C8D4E3\"},\"line\":{\"color\":\"white\"}},\"type\":\"table\"}]},\"layout\":{\"annotationdefaults\":{\"arrowcolor\":\"#2a3f5f\",\"arrowhead\":0,\"arrowwidth\":1},\"autotypenumbers\":\"strict\",\"coloraxis\":{\"colorbar\":{\"outlinewidth\":0,\"ticks\":\"\"}},\"colorscale\":{\"diverging\":[[0,\"#8e0152\"],[0.1,\"#c51b7d\"],[0.2,\"#de77ae\"],[0.3,\"#f1b6da\"],[0.4,\"#fde0ef\"],[0.5,\"#f7f7f7\"],[0.6,\"#e6f5d0\"],[0.7,\"#b8e186\"],[0.8,\"#7fbc41\"],[0.9,\"#4d9221\"],[1,\"#276419\"]],\"sequential\":[[0.0,\"#0d0887\"],[0.1111111111111111,\"#46039f\"],[0.2222222222222222,\"#7201a8\"],[0.3333333333333333,\"#9c179e\"],[0.4444444444444444,\"#bd3786\"],[0.5555555555555556,\"#d8576b\"],[0.6666666666666666,\"#ed7953\"],[0.7777777777777778,\"#fb9f3a\"],[0.8888888888888888,\"#fdca26\"],[1.0,\"#f0f921\"]],\"sequentialminus\":[[0.0,\"#0d0887\"],[0.1111111111111111,\"#46039f\"],[0.2222222222222222,\"#7201a8\"],[0.3333333333333333,\"#9c179e\"],[0.4444444444444444,\"#bd3786\"],[0.5555555555555556,\"#d8576b\"],[0.6666666666666666,\"#ed7953\"],[0.7777777777777778,\"#fb9f3a\"],[0.8888888888888888,\"#fdca26\"],[1.0,\"#f0f921\"]]},\"colorway\":[\"#636efa\",\"#EF553B\",\"#00cc96\",\"#ab63fa\",\"#FFA15A\",\"#19d3f3\",\"#FF6692\",\"#B6E880\",\"#FF97FF\",\"#FECB52\"],\"font\":{\"color\":\"#2a3f5f\"},\"geo\":{\"bgcolor\":\"white\",\"lakecolor\":\"white\",\"landcolor\":\"#E5ECF6\",\"showlakes\":true,\"showland\":true,\"subunitcolor\":\"white\"},\"hoverlabel\":{\"align\":\"left\"},\"hovermode\":\"closest\",\"mapbox\":{\"style\":\"light\"},\"paper_bgcolor\":\"white\",\"plot_bgcolor\":\"#E5ECF6\",\"polar\":{\"angularaxis\":{\"gridcolor\":\"white\",\"linecolor\":\"white\",\"ticks\":\"\"},\"bgcolor\":\"#E5ECF6\",\"radialaxis\":{\"gridcolor\":\"white\",\"linecolor\":\"white\",\"ticks\":\"\"}},\"scene\":{\"xaxis\":{\"backgroundcolor\":\"#E5ECF6\",\"gridcolor\":\"white\",\"gridwidth\":2,\"linecolor\":\"white\",\"showbackground\":true,\"ticks\":\"\",\"zerolinecolor\":\"white\"},\"yaxis\":{\"backgroundcolor\":\"#E5ECF6\",\"gridcolor\":\"white\",\"gridwidth\":2,\"linecolor\":\"white\",\"showbackground\":true,\"ticks\":\"\",\"zerolinecolor\":\"white\"},\"zaxis\":{\"backgroundcolor\":\"#E5ECF6\",\"gridcolor\":\"white\",\"gridwidth\":2,\"linecolor\":\"white\",\"showbackground\":true,\"ticks\":\"\",\"zerolinecolor\":\"white\"}},\"shapedefaults\":{\"line\":{\"color\":\"#2a3f5f\"}},\"ternary\":{\"aaxis\":{\"gridcolor\":\"white\",\"linecolor\":\"white\",\"ticks\":\"\"},\"baxis\":{\"gridcolor\":\"white\",\"linecolor\":\"white\",\"ticks\":\"\"},\"bgcolor\":\"#E5ECF6\",\"caxis\":{\"gridcolor\":\"white\",\"linecolor\":\"white\",\"ticks\":\"\"}},\"title\":{\"x\":0.05},\"xaxis\":{\"automargin\":true,\"gridcolor\":\"white\",\"linecolor\":\"white\",\"ticks\":\"\",\"title\":{\"standoff\":15},\"zerolinecolor\":\"white\",\"zerolinewidth\":2},\"yaxis\":{\"automargin\":true,\"gridcolor\":\"white\",\"linecolor\":\"white\",\"ticks\":\"\",\"title\":{\"standoff\":15},\"zerolinecolor\":\"white\",\"zerolinewidth\":2}}},\"title\":{\"text\":\"Which are the most popular genres in Tv Series?\"},\"uniformtext\":{\"minsize\":8,\"mode\":\"hide\"},\"xaxis\":{\"title\":{\"font\":{\"size\":14},\"text\":\"Genres\"}},\"yaxis\":{\"title\":{\"font\":{\"size\":14},\"text\":\"Quantity\"}}},                        {\"responsive\": true}                    ).then(function(){\n",
       "                            \n",
       "var gd = document.getElementById('a60645ff-e379-4222-9246-e373eb4059db');\n",
       "var x = new MutationObserver(function (mutations, observer) {{\n",
       "        var display = window.getComputedStyle(gd).display;\n",
       "        if (!display || display === 'none') {{\n",
       "            console.log([gd, 'removed!']);\n",
       "            Plotly.purge(gd);\n",
       "            observer.disconnect();\n",
       "        }}\n",
       "}});\n",
       "\n",
       "// Listen for the removal of the full notebook cells\n",
       "var notebookContainer = gd.closest('#notebook-container');\n",
       "if (notebookContainer) {{\n",
       "    x.observe(notebookContainer, {childList: true});\n",
       "}}\n",
       "\n",
       "// Listen for the clearing of the current output cell\n",
       "var outputEl = gd.closest('.output');\n",
       "if (outputEl) {{\n",
       "    x.observe(outputEl, {childList: true});\n",
       "}}\n",
       "\n",
       "                        })                };                });            </script>        </div>"
      ]
     },
     "metadata": {},
     "output_type": "display_data"
    }
   ],
   "source": [
    "fig = go.Figure(data=[go.Bar(\n",
    "    x = top_10_s_gen.index,\n",
    "    y = top_10_s_gen['Counts of Genres in Tv Series'],\n",
    "    text = top_10_s_gen['Counts of Genres in Tv Series'],\n",
    "    textposition='auto',\n",
    "    marker_color=colors_10 # marker color can be a single color value or an iterable\n",
    ")])\n",
    "fig.update_traces(texttemplate='%{text:.2s}', textposition='outside')\n",
    "fig.update_layout(title_text= 'Which are the most popular genres in Tv Series?',\n",
    "                  uniformtext_minsize=8, uniformtext_mode='hide',\n",
    "                  yaxis=dict(\n",
    "                  title='Quantity',\n",
    "                  titlefont_size=14),\n",
    "                  xaxis=dict(\n",
    "                  title='Genres',\n",
    "                  titlefont_size=14))"
   ]
  },
  {
   "cell_type": "code",
   "execution_count": null,
   "id": "8481c1a5",
   "metadata": {},
   "outputs": [],
   "source": []
  }
 ],
 "metadata": {
  "kernelspec": {
   "display_name": "Python 3",
   "language": "python",
   "name": "python3"
  },
  "language_info": {
   "codemirror_mode": {
    "name": "ipython",
    "version": 3
   },
   "file_extension": ".py",
   "mimetype": "text/x-python",
   "name": "python",
   "nbconvert_exporter": "python",
   "pygments_lexer": "ipython3",
   "version": "3.8.8"
  }
 },
 "nbformat": 4,
 "nbformat_minor": 5
}
